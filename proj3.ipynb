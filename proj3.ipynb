{
 "cells": [
  {
   "cell_type": "code",
   "execution_count": 59,
   "metadata": {},
   "outputs": [],
   "source": [
    "# importing libraries\n",
    "\n",
    "import numpy as np\n",
    "import pandas as pd\n",
    "import matplotlib.pyplot as plt\n",
    "%matplotlib inline\n",
    "import seaborn as sns\n",
    "import sqlite3\n",
    "\n",
    "# importing datasets.\n",
    "\n",
    "retail = pd.read_csv(\"data/BrandAverageRetailPrice.csv\")\n",
    "details = pd.read_csv(\"data/BrandDetails.csv\")\n",
    "sales = pd.read_csv(\"data/BrandTotalSales.csv\")\n",
    "units = pd.read_csv(\"data/BrandTotalUnits.csv\")\n",
    "\n",
    "#converting all of our months to datetime\n",
    "retail['Months'] = pd.to_datetime(retail['Months'])\n",
    "sales['Months'] = pd.to_datetime(sales['Months'])\n",
    "units['Months'] = pd.to_datetime(units['Months'])"
   ]
  },
  {
   "cell_type": "markdown",
   "metadata": {},
   "source": [
    "# Retail dataset\n",
    "\n",
    "col names = Brands, Months, ARP, \"vs. Prior Period\""
   ]
  },
  {
   "cell_type": "code",
   "execution_count": 60,
   "metadata": {},
   "outputs": [
    {
     "name": "stdout",
     "output_type": "stream",
     "text": [
      "<class 'pandas.core.frame.DataFrame'>\n",
      "RangeIndex: 27211 entries, 0 to 27210\n",
      "Data columns (total 4 columns):\n",
      " #   Column            Non-Null Count  Dtype         \n",
      "---  ------            --------------  -----         \n",
      " 0   Brands            27211 non-null  object        \n",
      " 1   Months            27211 non-null  datetime64[ns]\n",
      " 2   ARP               25279 non-null  float64       \n",
      " 3   vs. Prior Period  24499 non-null  float64       \n",
      "dtypes: datetime64[ns](1), float64(2), object(1)\n",
      "memory usage: 850.5+ KB\n"
     ]
    }
   ],
   "source": [
    "retail.info()\n",
    "# ARP has 1939 null entries.\n",
    "# \"vs. Prior Period\" has 2712 null entries."
   ]
  },
  {
   "cell_type": "code",
   "execution_count": 61,
   "metadata": {},
   "outputs": [
    {
     "data": {
      "text/html": [
       "<div>\n",
       "<style scoped>\n",
       "    .dataframe tbody tr th:only-of-type {\n",
       "        vertical-align: middle;\n",
       "    }\n",
       "\n",
       "    .dataframe tbody tr th {\n",
       "        vertical-align: top;\n",
       "    }\n",
       "\n",
       "    .dataframe thead th {\n",
       "        text-align: right;\n",
       "    }\n",
       "</style>\n",
       "<table border=\"1\" class=\"dataframe\">\n",
       "  <thead>\n",
       "    <tr style=\"text-align: right;\">\n",
       "      <th></th>\n",
       "      <th>Brands</th>\n",
       "      <th>Months</th>\n",
       "      <th>ARP</th>\n",
       "      <th>vs. Prior Period</th>\n",
       "    </tr>\n",
       "  </thead>\n",
       "  <tbody>\n",
       "    <tr>\n",
       "      <th>0</th>\n",
       "      <td>#BlackSeries</td>\n",
       "      <td>2020-08-01</td>\n",
       "      <td>15.684913</td>\n",
       "      <td>NaN</td>\n",
       "    </tr>\n",
       "    <tr>\n",
       "      <th>1</th>\n",
       "      <td>#BlackSeries</td>\n",
       "      <td>2020-09-01</td>\n",
       "      <td>NaN</td>\n",
       "      <td>-1.000000</td>\n",
       "    </tr>\n",
       "    <tr>\n",
       "      <th>2</th>\n",
       "      <td>#BlackSeries</td>\n",
       "      <td>2021-01-01</td>\n",
       "      <td>13.611428</td>\n",
       "      <td>NaN</td>\n",
       "    </tr>\n",
       "    <tr>\n",
       "      <th>3</th>\n",
       "      <td>#BlackSeries</td>\n",
       "      <td>2021-02-01</td>\n",
       "      <td>11.873182</td>\n",
       "      <td>-0.127705</td>\n",
       "    </tr>\n",
       "    <tr>\n",
       "      <th>4</th>\n",
       "      <td>#BlackSeries</td>\n",
       "      <td>2021-03-01</td>\n",
       "      <td>NaN</td>\n",
       "      <td>-1.000000</td>\n",
       "    </tr>\n",
       "  </tbody>\n",
       "</table>\n",
       "</div>"
      ],
      "text/plain": [
       "         Brands     Months        ARP  vs. Prior Period\n",
       "0  #BlackSeries 2020-08-01  15.684913               NaN\n",
       "1  #BlackSeries 2020-09-01        NaN         -1.000000\n",
       "2  #BlackSeries 2021-01-01  13.611428               NaN\n",
       "3  #BlackSeries 2021-02-01  11.873182         -0.127705\n",
       "4  #BlackSeries 2021-03-01        NaN         -1.000000"
      ]
     },
     "execution_count": 61,
     "metadata": {},
     "output_type": "execute_result"
    }
   ],
   "source": [
    "retail.head()"
   ]
  },
  {
   "cell_type": "markdown",
   "metadata": {},
   "source": [
    "# sales dataset\n",
    "- Need to convert total sales into an int or float."
   ]
  },
  {
   "cell_type": "code",
   "execution_count": 62,
   "metadata": {},
   "outputs": [
    {
     "name": "stdout",
     "output_type": "stream",
     "text": [
      "<class 'pandas.core.frame.DataFrame'>\n",
      "RangeIndex: 25279 entries, 0 to 25278\n",
      "Data columns (total 3 columns):\n",
      " #   Column           Non-Null Count  Dtype         \n",
      "---  ------           --------------  -----         \n",
      " 0   Months           25279 non-null  datetime64[ns]\n",
      " 1   Brand            25279 non-null  object        \n",
      " 2   Total Sales ($)  25279 non-null  object        \n",
      "dtypes: datetime64[ns](1), object(2)\n",
      "memory usage: 592.6+ KB\n"
     ]
    }
   ],
   "source": [
    "sales.info()"
   ]
  },
  {
   "cell_type": "code",
   "execution_count": 63,
   "metadata": {},
   "outputs": [
    {
     "ename": "ValueError",
     "evalue": "Unable to parse string \"1,711.33\" at position 0",
     "output_type": "error",
     "traceback": [
      "\u001b[0;31m---------------------------------------------------------------------------\u001b[0m",
      "\u001b[0;31mValueError\u001b[0m                                Traceback (most recent call last)",
      "\u001b[0;32mpandas/_libs/lib.pyx\u001b[0m in \u001b[0;36mpandas._libs.lib.maybe_convert_numeric\u001b[0;34m()\u001b[0m\n",
      "\u001b[0;31mValueError\u001b[0m: Unable to parse string \"1,711.33\"",
      "\nDuring handling of the above exception, another exception occurred:\n",
      "\u001b[0;31mValueError\u001b[0m                                Traceback (most recent call last)",
      "\u001b[0;32m<ipython-input-63-856b4dbda28a>\u001b[0m in \u001b[0;36m<module>\u001b[0;34m\u001b[0m\n\u001b[1;32m      1\u001b[0m \u001b[0;31m# Concert total sales feature into floats\u001b[0m\u001b[0;34m\u001b[0m\u001b[0;34m\u001b[0m\u001b[0;34m\u001b[0m\u001b[0m\n\u001b[1;32m      2\u001b[0m \u001b[0msales\u001b[0m\u001b[0;34m[\u001b[0m\u001b[0;34m'Total Sales ($)'\u001b[0m\u001b[0;34m]\u001b[0m \u001b[0;34m=\u001b[0m \u001b[0msales\u001b[0m\u001b[0;34m[\u001b[0m\u001b[0;34m'Total Sales ($)'\u001b[0m\u001b[0;34m]\u001b[0m\u001b[0;34m.\u001b[0m\u001b[0mstr\u001b[0m\u001b[0;34m[\u001b[0m\u001b[0;34m:\u001b[0m\u001b[0;36m8\u001b[0m\u001b[0;34m]\u001b[0m\u001b[0;34m\u001b[0m\u001b[0;34m\u001b[0m\u001b[0m\n\u001b[0;32m----> 3\u001b[0;31m \u001b[0msales\u001b[0m\u001b[0;34m[\u001b[0m\u001b[0;34m'Total Sales ($)'\u001b[0m\u001b[0;34m]\u001b[0m \u001b[0;34m=\u001b[0m \u001b[0mpd\u001b[0m\u001b[0;34m.\u001b[0m\u001b[0mto_numeric\u001b[0m\u001b[0;34m(\u001b[0m\u001b[0msales\u001b[0m\u001b[0;34m[\u001b[0m\u001b[0;34m'Total Sales ($)'\u001b[0m\u001b[0;34m]\u001b[0m\u001b[0;34m)\u001b[0m\u001b[0;34m\u001b[0m\u001b[0;34m\u001b[0m\u001b[0m\n\u001b[0m",
      "\u001b[0;32m/opt/anaconda3/lib/python3.8/site-packages/pandas/core/tools/numeric.py\u001b[0m in \u001b[0;36mto_numeric\u001b[0;34m(arg, errors, downcast)\u001b[0m\n\u001b[1;32m    150\u001b[0m         \u001b[0mcoerce_numeric\u001b[0m \u001b[0;34m=\u001b[0m \u001b[0merrors\u001b[0m \u001b[0;32mnot\u001b[0m \u001b[0;32min\u001b[0m \u001b[0;34m(\u001b[0m\u001b[0;34m\"ignore\"\u001b[0m\u001b[0;34m,\u001b[0m \u001b[0;34m\"raise\"\u001b[0m\u001b[0;34m)\u001b[0m\u001b[0;34m\u001b[0m\u001b[0;34m\u001b[0m\u001b[0m\n\u001b[1;32m    151\u001b[0m         \u001b[0;32mtry\u001b[0m\u001b[0;34m:\u001b[0m\u001b[0;34m\u001b[0m\u001b[0;34m\u001b[0m\u001b[0m\n\u001b[0;32m--> 152\u001b[0;31m             values = lib.maybe_convert_numeric(\n\u001b[0m\u001b[1;32m    153\u001b[0m                 \u001b[0mvalues\u001b[0m\u001b[0;34m,\u001b[0m \u001b[0mset\u001b[0m\u001b[0;34m(\u001b[0m\u001b[0;34m)\u001b[0m\u001b[0;34m,\u001b[0m \u001b[0mcoerce_numeric\u001b[0m\u001b[0;34m=\u001b[0m\u001b[0mcoerce_numeric\u001b[0m\u001b[0;34m\u001b[0m\u001b[0;34m\u001b[0m\u001b[0m\n\u001b[1;32m    154\u001b[0m             )\n",
      "\u001b[0;32mpandas/_libs/lib.pyx\u001b[0m in \u001b[0;36mpandas._libs.lib.maybe_convert_numeric\u001b[0;34m()\u001b[0m\n",
      "\u001b[0;31mValueError\u001b[0m: Unable to parse string \"1,711.33\" at position 0"
     ]
    }
   ],
   "source": [
    "# Concert total sales feature into floats\n",
    "sales['Total Sales ($)'] = sales['Total Sales ($)'].str[:8]\n",
    "sales['Total Sales ($)'] = pd.to_numeric(sales['Total Sales ($)'])"
   ]
  },
  {
   "cell_type": "code",
   "execution_count": 64,
   "metadata": {},
   "outputs": [
    {
     "name": "stdout",
     "output_type": "stream",
     "text": [
      "<class 'pandas.core.frame.DataFrame'>\n",
      "RangeIndex: 25279 entries, 0 to 25278\n",
      "Data columns (total 3 columns):\n",
      " #   Column           Non-Null Count  Dtype         \n",
      "---  ------           --------------  -----         \n",
      " 0   Months           25279 non-null  datetime64[ns]\n",
      " 1   Brand            25279 non-null  object        \n",
      " 2   Total Sales ($)  25279 non-null  object        \n",
      "dtypes: datetime64[ns](1), object(2)\n",
      "memory usage: 592.6+ KB\n"
     ]
    }
   ],
   "source": [
    "sales.info()"
   ]
  },
  {
   "cell_type": "markdown",
   "metadata": {},
   "source": [
    "# units dataset\n",
    "need to convert total units into an int or float"
   ]
  },
  {
   "cell_type": "code",
   "execution_count": 65,
   "metadata": {},
   "outputs": [
    {
     "name": "stdout",
     "output_type": "stream",
     "text": [
      "<class 'pandas.core.frame.DataFrame'>\n",
      "RangeIndex: 27686 entries, 0 to 27685\n",
      "Data columns (total 4 columns):\n",
      " #   Column            Non-Null Count  Dtype         \n",
      "---  ------            --------------  -----         \n",
      " 0   Brands            27686 non-null  object        \n",
      " 1   Months            27686 non-null  datetime64[ns]\n",
      " 2   Total Units       25712 non-null  object        \n",
      " 3   vs. Prior Period  24935 non-null  float64       \n",
      "dtypes: datetime64[ns](1), float64(1), object(2)\n",
      "memory usage: 865.3+ KB\n"
     ]
    }
   ],
   "source": [
    "units.info()"
   ]
  },
  {
   "cell_type": "code",
   "execution_count": 66,
   "metadata": {},
   "outputs": [
    {
     "ename": "ValueError",
     "evalue": "Unable to parse string \"1,616.33\" at position 0",
     "output_type": "error",
     "traceback": [
      "\u001b[0;31m---------------------------------------------------------------------------\u001b[0m",
      "\u001b[0;31mValueError\u001b[0m                                Traceback (most recent call last)",
      "\u001b[0;32mpandas/_libs/lib.pyx\u001b[0m in \u001b[0;36mpandas._libs.lib.maybe_convert_numeric\u001b[0;34m()\u001b[0m\n",
      "\u001b[0;31mValueError\u001b[0m: Unable to parse string \"1,616.33\"",
      "\nDuring handling of the above exception, another exception occurred:\n",
      "\u001b[0;31mValueError\u001b[0m                                Traceback (most recent call last)",
      "\u001b[0;32m<ipython-input-66-e7d725b8084d>\u001b[0m in \u001b[0;36m<module>\u001b[0;34m\u001b[0m\n\u001b[1;32m      2\u001b[0m \u001b[0munits\u001b[0m \u001b[0;34m=\u001b[0m \u001b[0munits\u001b[0m\u001b[0;34m.\u001b[0m\u001b[0mrename\u001b[0m\u001b[0;34m(\u001b[0m\u001b[0mcolumns\u001b[0m\u001b[0;34m=\u001b[0m\u001b[0;34m{\u001b[0m\u001b[0;34m\"vs. Prior Period\"\u001b[0m\u001b[0;34m:\u001b[0m \u001b[0;34m\"vs. Prior Period (Units)\"\u001b[0m\u001b[0;34m}\u001b[0m\u001b[0;34m)\u001b[0m\u001b[0;34m\u001b[0m\u001b[0;34m\u001b[0m\u001b[0m\n\u001b[1;32m      3\u001b[0m \u001b[0munits\u001b[0m\u001b[0;34m[\u001b[0m\u001b[0;34m'Total Units'\u001b[0m\u001b[0;34m]\u001b[0m \u001b[0;34m=\u001b[0m \u001b[0munits\u001b[0m\u001b[0;34m[\u001b[0m\u001b[0;34m'Total Units'\u001b[0m\u001b[0;34m]\u001b[0m\u001b[0;34m.\u001b[0m\u001b[0mstr\u001b[0m\u001b[0;34m[\u001b[0m\u001b[0;34m:\u001b[0m\u001b[0;36m8\u001b[0m\u001b[0;34m]\u001b[0m\u001b[0;34m\u001b[0m\u001b[0;34m\u001b[0m\u001b[0m\n\u001b[0;32m----> 4\u001b[0;31m \u001b[0munits\u001b[0m\u001b[0;34m[\u001b[0m\u001b[0;34m'Total Units'\u001b[0m\u001b[0;34m]\u001b[0m \u001b[0;34m=\u001b[0m \u001b[0mpd\u001b[0m\u001b[0;34m.\u001b[0m\u001b[0mto_numeric\u001b[0m\u001b[0;34m(\u001b[0m\u001b[0munits\u001b[0m\u001b[0;34m[\u001b[0m\u001b[0;34m'Total Units'\u001b[0m\u001b[0;34m]\u001b[0m\u001b[0;34m)\u001b[0m\u001b[0;34m\u001b[0m\u001b[0;34m\u001b[0m\u001b[0m\n\u001b[0m\u001b[1;32m      5\u001b[0m \u001b[0munits\u001b[0m\u001b[0;34m.\u001b[0m\u001b[0mhead\u001b[0m\u001b[0;34m(\u001b[0m\u001b[0;34m)\u001b[0m\u001b[0;34m\u001b[0m\u001b[0;34m\u001b[0m\u001b[0m\n",
      "\u001b[0;32m/opt/anaconda3/lib/python3.8/site-packages/pandas/core/tools/numeric.py\u001b[0m in \u001b[0;36mto_numeric\u001b[0;34m(arg, errors, downcast)\u001b[0m\n\u001b[1;32m    150\u001b[0m         \u001b[0mcoerce_numeric\u001b[0m \u001b[0;34m=\u001b[0m \u001b[0merrors\u001b[0m \u001b[0;32mnot\u001b[0m \u001b[0;32min\u001b[0m \u001b[0;34m(\u001b[0m\u001b[0;34m\"ignore\"\u001b[0m\u001b[0;34m,\u001b[0m \u001b[0;34m\"raise\"\u001b[0m\u001b[0;34m)\u001b[0m\u001b[0;34m\u001b[0m\u001b[0;34m\u001b[0m\u001b[0m\n\u001b[1;32m    151\u001b[0m         \u001b[0;32mtry\u001b[0m\u001b[0;34m:\u001b[0m\u001b[0;34m\u001b[0m\u001b[0;34m\u001b[0m\u001b[0m\n\u001b[0;32m--> 152\u001b[0;31m             values = lib.maybe_convert_numeric(\n\u001b[0m\u001b[1;32m    153\u001b[0m                 \u001b[0mvalues\u001b[0m\u001b[0;34m,\u001b[0m \u001b[0mset\u001b[0m\u001b[0;34m(\u001b[0m\u001b[0;34m)\u001b[0m\u001b[0;34m,\u001b[0m \u001b[0mcoerce_numeric\u001b[0m\u001b[0;34m=\u001b[0m\u001b[0mcoerce_numeric\u001b[0m\u001b[0;34m\u001b[0m\u001b[0;34m\u001b[0m\u001b[0m\n\u001b[1;32m    154\u001b[0m             )\n",
      "\u001b[0;32mpandas/_libs/lib.pyx\u001b[0m in \u001b[0;36mpandas._libs.lib.maybe_convert_numeric\u001b[0;34m()\u001b[0m\n",
      "\u001b[0;31mValueError\u001b[0m: Unable to parse string \"1,616.33\" at position 0"
     ]
    }
   ],
   "source": [
    "units = units.rename(columns={\"Brands\": \"Brand\"})\n",
    "units = units.rename(columns={\"vs. Prior Period\": \"vs. Prior Period (Units)\"})\n",
    "units['Total Units'] = units['Total Units'].str[:8]\n",
    "units['Total Units'] = pd.to_numeric(units['Total Units'])\n",
    "units.head()"
   ]
  },
  {
   "cell_type": "code",
   "execution_count": 44,
   "metadata": {},
   "outputs": [
    {
     "name": "stdout",
     "output_type": "stream",
     "text": [
      "<class 'pandas.core.frame.DataFrame'>\n",
      "RangeIndex: 27686 entries, 0 to 27685\n",
      "Data columns (total 4 columns):\n",
      " #   Column                    Non-Null Count  Dtype         \n",
      "---  ------                    --------------  -----         \n",
      " 0   Brand                     27686 non-null  object        \n",
      " 1   Months                    27686 non-null  datetime64[ns]\n",
      " 2   Total Units               25282 non-null  float64       \n",
      " 3   vs. Prior Period (Units)  24935 non-null  float64       \n",
      "dtypes: datetime64[ns](1), float64(2), object(1)\n",
      "memory usage: 865.3+ KB\n"
     ]
    }
   ],
   "source": [
    "units.info()"
   ]
  },
  {
   "cell_type": "code",
   "execution_count": 17,
   "metadata": {},
   "outputs": [],
   "source": [
    "# Merging the datasets (Except for details)"
   ]
  },
  {
   "cell_type": "code",
   "execution_count": 45,
   "metadata": {},
   "outputs": [
    {
     "name": "stdout",
     "output_type": "stream",
     "text": [
      "<class 'pandas.core.frame.DataFrame'>\n",
      "RangeIndex: 27211 entries, 0 to 27210\n",
      "Data columns (total 4 columns):\n",
      " #   Column                  Non-Null Count  Dtype         \n",
      "---  ------                  --------------  -----         \n",
      " 0   Brand                   27211 non-null  object        \n",
      " 1   Months                  27211 non-null  datetime64[ns]\n",
      " 2   ARP                     25279 non-null  float64       \n",
      " 3   vs. Prior Period (ARP)  24499 non-null  float64       \n",
      "dtypes: datetime64[ns](1), float64(2), object(1)\n",
      "memory usage: 850.5+ KB\n"
     ]
    }
   ],
   "source": [
    "retail = retail.rename(columns={\"Brands\": \"Brand\"})\n",
    "retail = retail.rename(columns={\"vs. Prior Period\": \"vs. Prior Period (ARP)\"})\n",
    "retail.info()"
   ]
  },
  {
   "cell_type": "markdown",
   "metadata": {},
   "source": [
    "# Merging all datasets except for Details\n",
    "\n",
    "- for ARP, 1932 nulls\n",
    "- for ARP vs prior, 2712 nulls\n",
    "- for Units, 1932 nulls\n",
    "- for Units vs prior, 2813 nulls"
   ]
  },
  {
   "cell_type": "code",
   "execution_count": 46,
   "metadata": {},
   "outputs": [
    {
     "data": {
      "text/html": [
       "<div>\n",
       "<style scoped>\n",
       "    .dataframe tbody tr th:only-of-type {\n",
       "        vertical-align: middle;\n",
       "    }\n",
       "\n",
       "    .dataframe tbody tr th {\n",
       "        vertical-align: top;\n",
       "    }\n",
       "\n",
       "    .dataframe thead th {\n",
       "        text-align: right;\n",
       "    }\n",
       "</style>\n",
       "<table border=\"1\" class=\"dataframe\">\n",
       "  <thead>\n",
       "    <tr style=\"text-align: right;\">\n",
       "      <th></th>\n",
       "      <th>Brand</th>\n",
       "      <th>Months</th>\n",
       "      <th>ARP</th>\n",
       "      <th>vs. Prior Period (ARP)</th>\n",
       "      <th>Total Units</th>\n",
       "      <th>vs. Prior Period (Units)</th>\n",
       "      <th>Total Sales ($)</th>\n",
       "    </tr>\n",
       "  </thead>\n",
       "  <tbody>\n",
       "    <tr>\n",
       "      <th>0</th>\n",
       "      <td>#BlackSeries</td>\n",
       "      <td>2020-08-01</td>\n",
       "      <td>15.684913</td>\n",
       "      <td>NaN</td>\n",
       "      <td>9.004000e+10</td>\n",
       "      <td>NaN</td>\n",
       "      <td>3.591800e+10</td>\n",
       "    </tr>\n",
       "    <tr>\n",
       "      <th>1</th>\n",
       "      <td>#BlackSeries</td>\n",
       "      <td>2020-09-01</td>\n",
       "      <td>NaN</td>\n",
       "      <td>-1.000000</td>\n",
       "      <td>NaN</td>\n",
       "      <td>-1.000000</td>\n",
       "      <td>NaN</td>\n",
       "    </tr>\n",
       "    <tr>\n",
       "      <th>2</th>\n",
       "      <td>#BlackSeries</td>\n",
       "      <td>2021-01-01</td>\n",
       "      <td>13.611428</td>\n",
       "      <td>NaN</td>\n",
       "      <td>3.800000e+08</td>\n",
       "      <td>NaN</td>\n",
       "      <td>3.400000e+01</td>\n",
       "    </tr>\n",
       "    <tr>\n",
       "      <th>3</th>\n",
       "      <td>#BlackSeries</td>\n",
       "      <td>2021-02-01</td>\n",
       "      <td>11.873182</td>\n",
       "      <td>-0.127705</td>\n",
       "      <td>3.500000e+01</td>\n",
       "      <td>0.071466</td>\n",
       "      <td>2.187000e+09</td>\n",
       "    </tr>\n",
       "    <tr>\n",
       "      <th>4</th>\n",
       "      <td>#BlackSeries</td>\n",
       "      <td>2021-03-01</td>\n",
       "      <td>NaN</td>\n",
       "      <td>-1.000000</td>\n",
       "      <td>NaN</td>\n",
       "      <td>-1.000000</td>\n",
       "      <td>NaN</td>\n",
       "    </tr>\n",
       "  </tbody>\n",
       "</table>\n",
       "</div>"
      ],
      "text/plain": [
       "          Brand     Months        ARP  vs. Prior Period (ARP)   Total Units  \\\n",
       "0  #BlackSeries 2020-08-01  15.684913                     NaN  9.004000e+10   \n",
       "1  #BlackSeries 2020-09-01        NaN               -1.000000           NaN   \n",
       "2  #BlackSeries 2021-01-01  13.611428                     NaN  3.800000e+08   \n",
       "3  #BlackSeries 2021-02-01  11.873182               -0.127705  3.500000e+01   \n",
       "4  #BlackSeries 2021-03-01        NaN               -1.000000           NaN   \n",
       "\n",
       "   vs. Prior Period (Units)  Total Sales ($)  \n",
       "0                       NaN     3.591800e+10  \n",
       "1                 -1.000000              NaN  \n",
       "2                       NaN     3.400000e+01  \n",
       "3                  0.071466     2.187000e+09  \n",
       "4                 -1.000000              NaN  "
      ]
     },
     "execution_count": 46,
     "metadata": {},
     "output_type": "execute_result"
    }
   ],
   "source": [
    "retailXunits = pd.merge(retail, units, on=['Brand', 'Months'], how='left')\n",
    "full = pd.merge(retailXunits, sales, on=['Brand', 'Months'], how='left')\n",
    "full.head()"
   ]
  },
  {
   "cell_type": "code",
   "execution_count": 47,
   "metadata": {},
   "outputs": [
    {
     "name": "stdout",
     "output_type": "stream",
     "text": [
      "<class 'pandas.core.frame.DataFrame'>\n",
      "Int64Index: 27211 entries, 0 to 27210\n",
      "Data columns (total 7 columns):\n",
      " #   Column                    Non-Null Count  Dtype         \n",
      "---  ------                    --------------  -----         \n",
      " 0   Brand                     27211 non-null  object        \n",
      " 1   Months                    27211 non-null  datetime64[ns]\n",
      " 2   ARP                       25279 non-null  float64       \n",
      " 3   vs. Prior Period (ARP)    24499 non-null  float64       \n",
      " 4   Total Units               24859 non-null  float64       \n",
      " 5   vs. Prior Period (Units)  24893 non-null  float64       \n",
      " 6   Total Sales ($)           25254 non-null  float64       \n",
      "dtypes: datetime64[ns](1), float64(5), object(1)\n",
      "memory usage: 1.7+ MB\n"
     ]
    }
   ],
   "source": [
    "full.info()"
   ]
  },
  {
   "cell_type": "markdown",
   "metadata": {},
   "source": [
    "## Checking to see what happens if we just drop all rows with NaN values\n",
    "- We lose 4641 rows, which is ~18% of our dataset"
   ]
  },
  {
   "cell_type": "code",
   "execution_count": 48,
   "metadata": {},
   "outputs": [
    {
     "name": "stdout",
     "output_type": "stream",
     "text": [
      "<class 'pandas.core.frame.DataFrame'>\n",
      "Int64Index: 22274 entries, 3 to 27209\n",
      "Data columns (total 7 columns):\n",
      " #   Column                    Non-Null Count  Dtype         \n",
      "---  ------                    --------------  -----         \n",
      " 0   Brand                     22274 non-null  object        \n",
      " 1   Months                    22274 non-null  datetime64[ns]\n",
      " 2   ARP                       22274 non-null  float64       \n",
      " 3   vs. Prior Period (ARP)    22274 non-null  float64       \n",
      " 4   Total Units               22274 non-null  float64       \n",
      " 5   vs. Prior Period (Units)  22274 non-null  float64       \n",
      " 6   Total Sales ($)           22274 non-null  float64       \n",
      "dtypes: datetime64[ns](1), float64(5), object(1)\n",
      "memory usage: 1.4+ MB\n"
     ]
    }
   ],
   "source": [
    "tester = full\n",
    "tester = tester.dropna()\n",
    "tester.info()"
   ]
  },
  {
   "cell_type": "code",
   "execution_count": 49,
   "metadata": {},
   "outputs": [
    {
     "data": {
      "text/html": [
       "<div>\n",
       "<style scoped>\n",
       "    .dataframe tbody tr th:only-of-type {\n",
       "        vertical-align: middle;\n",
       "    }\n",
       "\n",
       "    .dataframe tbody tr th {\n",
       "        vertical-align: top;\n",
       "    }\n",
       "\n",
       "    .dataframe thead th {\n",
       "        text-align: right;\n",
       "    }\n",
       "</style>\n",
       "<table border=\"1\" class=\"dataframe\">\n",
       "  <thead>\n",
       "    <tr style=\"text-align: right;\">\n",
       "      <th></th>\n",
       "      <th>Total Units</th>\n",
       "      <th>vs. Prior Period (Units)</th>\n",
       "    </tr>\n",
       "  </thead>\n",
       "  <tbody>\n",
       "    <tr>\n",
       "      <th>count</th>\n",
       "      <td>2.528200e+04</td>\n",
       "      <td>24935.000000</td>\n",
       "    </tr>\n",
       "    <tr>\n",
       "      <th>mean</th>\n",
       "      <td>1.739369e+10</td>\n",
       "      <td>0.265306</td>\n",
       "    </tr>\n",
       "    <tr>\n",
       "      <th>std</th>\n",
       "      <td>2.759895e+10</td>\n",
       "      <td>3.291373</td>\n",
       "    </tr>\n",
       "    <tr>\n",
       "      <th>min</th>\n",
       "      <td>0.000000e+00</td>\n",
       "      <td>-1.000000</td>\n",
       "    </tr>\n",
       "    <tr>\n",
       "      <th>25%</th>\n",
       "      <td>8.978750e+03</td>\n",
       "      <td>-0.351822</td>\n",
       "    </tr>\n",
       "    <tr>\n",
       "      <th>50%</th>\n",
       "      <td>3.621845e+09</td>\n",
       "      <td>-0.055216</td>\n",
       "    </tr>\n",
       "    <tr>\n",
       "      <th>75%</th>\n",
       "      <td>2.121925e+10</td>\n",
       "      <td>0.240113</td>\n",
       "    </tr>\n",
       "    <tr>\n",
       "      <th>max</th>\n",
       "      <td>9.998850e+10</td>\n",
       "      <td>250.792020</td>\n",
       "    </tr>\n",
       "  </tbody>\n",
       "</table>\n",
       "</div>"
      ],
      "text/plain": [
       "        Total Units  vs. Prior Period (Units)\n",
       "count  2.528200e+04              24935.000000\n",
       "mean   1.739369e+10                  0.265306\n",
       "std    2.759895e+10                  3.291373\n",
       "min    0.000000e+00                 -1.000000\n",
       "25%    8.978750e+03                 -0.351822\n",
       "50%    3.621845e+09                 -0.055216\n",
       "75%    2.121925e+10                  0.240113\n",
       "max    9.998850e+10                250.792020"
      ]
     },
     "execution_count": 49,
     "metadata": {},
     "output_type": "execute_result"
    }
   ],
   "source": [
    "units.describe()"
   ]
  },
  {
   "cell_type": "code",
   "execution_count": 50,
   "metadata": {},
   "outputs": [
    {
     "data": {
      "text/html": [
       "<div>\n",
       "<style scoped>\n",
       "    .dataframe tbody tr th:only-of-type {\n",
       "        vertical-align: middle;\n",
       "    }\n",
       "\n",
       "    .dataframe tbody tr th {\n",
       "        vertical-align: top;\n",
       "    }\n",
       "\n",
       "    .dataframe thead th {\n",
       "        text-align: right;\n",
       "    }\n",
       "</style>\n",
       "<table border=\"1\" class=\"dataframe\">\n",
       "  <thead>\n",
       "    <tr style=\"text-align: right;\">\n",
       "      <th></th>\n",
       "      <th>Total Sales ($)</th>\n",
       "    </tr>\n",
       "  </thead>\n",
       "  <tbody>\n",
       "    <tr>\n",
       "      <th>count</th>\n",
       "      <td>2.525400e+04</td>\n",
       "    </tr>\n",
       "    <tr>\n",
       "      <th>mean</th>\n",
       "      <td>1.657866e+10</td>\n",
       "    </tr>\n",
       "    <tr>\n",
       "      <th>std</th>\n",
       "      <td>2.767622e+10</td>\n",
       "    </tr>\n",
       "    <tr>\n",
       "      <th>min</th>\n",
       "      <td>0.000000e+00</td>\n",
       "    </tr>\n",
       "    <tr>\n",
       "      <th>25%</th>\n",
       "      <td>1.322175e+04</td>\n",
       "    </tr>\n",
       "    <tr>\n",
       "      <th>50%</th>\n",
       "      <td>8.377800e+08</td>\n",
       "    </tr>\n",
       "    <tr>\n",
       "      <th>75%</th>\n",
       "      <td>1.971775e+10</td>\n",
       "    </tr>\n",
       "    <tr>\n",
       "      <th>max</th>\n",
       "      <td>9.997740e+10</td>\n",
       "    </tr>\n",
       "  </tbody>\n",
       "</table>\n",
       "</div>"
      ],
      "text/plain": [
       "       Total Sales ($)\n",
       "count     2.525400e+04\n",
       "mean      1.657866e+10\n",
       "std       2.767622e+10\n",
       "min       0.000000e+00\n",
       "25%       1.322175e+04\n",
       "50%       8.377800e+08\n",
       "75%       1.971775e+10\n",
       "max       9.997740e+10"
      ]
     },
     "execution_count": 50,
     "metadata": {},
     "output_type": "execute_result"
    }
   ],
   "source": [
    "sales.describe()"
   ]
  },
  {
   "cell_type": "markdown",
   "metadata": {},
   "source": [
    "# Timeseries feature engineering"
   ]
  },
  {
   "cell_type": "code",
   "execution_count": 58,
   "metadata": {},
   "outputs": [
    {
     "data": {
      "text/html": [
       "<div>\n",
       "<style scoped>\n",
       "    .dataframe tbody tr th:only-of-type {\n",
       "        vertical-align: middle;\n",
       "    }\n",
       "\n",
       "    .dataframe tbody tr th {\n",
       "        vertical-align: top;\n",
       "    }\n",
       "\n",
       "    .dataframe thead th {\n",
       "        text-align: right;\n",
       "    }\n",
       "</style>\n",
       "<table border=\"1\" class=\"dataframe\">\n",
       "  <thead>\n",
       "    <tr style=\"text-align: right;\">\n",
       "      <th></th>\n",
       "      <th>Brand</th>\n",
       "      <th>Months</th>\n",
       "      <th>ARP</th>\n",
       "      <th>vs. Prior Period (ARP)</th>\n",
       "      <th>Total Units</th>\n",
       "      <th>vs. Prior Period (Units)</th>\n",
       "      <th>Total Sales ($)</th>\n",
       "    </tr>\n",
       "  </thead>\n",
       "  <tbody>\n",
       "    <tr>\n",
       "      <th>31</th>\n",
       "      <td>11:11</td>\n",
       "      <td>2020-03-01</td>\n",
       "      <td>9.037983</td>\n",
       "      <td>0.279730</td>\n",
       "      <td>7.975400e+10</td>\n",
       "      <td>0.936358</td>\n",
       "      <td>9.540540e+10</td>\n",
       "    </tr>\n",
       "    <tr>\n",
       "      <th>32</th>\n",
       "      <td>11:11</td>\n",
       "      <td>2020-04-01</td>\n",
       "      <td>10.281978</td>\n",
       "      <td>0.137641</td>\n",
       "      <td>9.354900e+10</td>\n",
       "      <td>-0.270734</td>\n",
       "      <td>8.883210e+05</td>\n",
       "    </tr>\n",
       "    <tr>\n",
       "      <th>33</th>\n",
       "      <td>11:11</td>\n",
       "      <td>2020-05-01</td>\n",
       "      <td>10.502285</td>\n",
       "      <td>0.021427</td>\n",
       "      <td>1.780000e+09</td>\n",
       "      <td>-0.572958</td>\n",
       "      <td>3.991200e+04</td>\n",
       "    </tr>\n",
       "    <tr>\n",
       "      <th>34</th>\n",
       "      <td>11:11</td>\n",
       "      <td>2020-06-01</td>\n",
       "      <td>15.972395</td>\n",
       "      <td>0.520849</td>\n",
       "      <td>7.100000e+08</td>\n",
       "      <td>-0.742249</td>\n",
       "      <td>6.471000e+10</td>\n",
       "    </tr>\n",
       "    <tr>\n",
       "      <th>35</th>\n",
       "      <td>11:11</td>\n",
       "      <td>2020-07-01</td>\n",
       "      <td>43.422733</td>\n",
       "      <td>1.718611</td>\n",
       "      <td>6.700000e+08</td>\n",
       "      <td>-0.621271</td>\n",
       "      <td>7.533000e+03</td>\n",
       "    </tr>\n",
       "    <tr>\n",
       "      <th>36</th>\n",
       "      <td>11:11</td>\n",
       "      <td>2020-08-01</td>\n",
       "      <td>52.324609</td>\n",
       "      <td>0.205005</td>\n",
       "      <td>3.600000e+08</td>\n",
       "      <td>-0.197298</td>\n",
       "      <td>2.022800e+04</td>\n",
       "    </tr>\n",
       "    <tr>\n",
       "      <th>37</th>\n",
       "      <td>11:11</td>\n",
       "      <td>2020-09-01</td>\n",
       "      <td>51.065082</td>\n",
       "      <td>-0.024071</td>\n",
       "      <td>3.600000e+09</td>\n",
       "      <td>-0.172422</td>\n",
       "      <td>9.950700e+04</td>\n",
       "    </tr>\n",
       "    <tr>\n",
       "      <th>38</th>\n",
       "      <td>11:11</td>\n",
       "      <td>2020-10-01</td>\n",
       "      <td>41.082436</td>\n",
       "      <td>-0.195489</td>\n",
       "      <td>6.900000e+08</td>\n",
       "      <td>1.016996</td>\n",
       "      <td>9.724900e+10</td>\n",
       "    </tr>\n",
       "    <tr>\n",
       "      <th>39</th>\n",
       "      <td>11:11</td>\n",
       "      <td>2020-11-01</td>\n",
       "      <td>46.861609</td>\n",
       "      <td>0.140673</td>\n",
       "      <td>9.970000e+09</td>\n",
       "      <td>0.755872</td>\n",
       "      <td>8.222000e+03</td>\n",
       "    </tr>\n",
       "    <tr>\n",
       "      <th>40</th>\n",
       "      <td>11:11</td>\n",
       "      <td>2020-12-01</td>\n",
       "      <td>42.193026</td>\n",
       "      <td>-0.099625</td>\n",
       "      <td>1.658000e+09</td>\n",
       "      <td>1.374325</td>\n",
       "      <td>9.653090e+05</td>\n",
       "    </tr>\n",
       "    <tr>\n",
       "      <th>41</th>\n",
       "      <td>11:11</td>\n",
       "      <td>2021-01-01</td>\n",
       "      <td>43.618650</td>\n",
       "      <td>0.033788</td>\n",
       "      <td>7.935000e+10</td>\n",
       "      <td>-0.386960</td>\n",
       "      <td>4.813100e+04</td>\n",
       "    </tr>\n",
       "    <tr>\n",
       "      <th>42</th>\n",
       "      <td>11:11</td>\n",
       "      <td>2021-02-01</td>\n",
       "      <td>35.015444</td>\n",
       "      <td>-0.197237</td>\n",
       "      <td>1.319000e+03</td>\n",
       "      <td>0.409196</td>\n",
       "      <td>2.349200e+09</td>\n",
       "    </tr>\n",
       "    <tr>\n",
       "      <th>43</th>\n",
       "      <td>11:11</td>\n",
       "      <td>2021-03-01</td>\n",
       "      <td>43.154885</td>\n",
       "      <td>0.232453</td>\n",
       "      <td>8.586000e+10</td>\n",
       "      <td>0.248825</td>\n",
       "      <td>4.730300e+04</td>\n",
       "    </tr>\n",
       "    <tr>\n",
       "      <th>44</th>\n",
       "      <td>11:11</td>\n",
       "      <td>2021-04-01</td>\n",
       "      <td>37.865441</td>\n",
       "      <td>-0.122569</td>\n",
       "      <td>4.739000e+10</td>\n",
       "      <td>0.111347</td>\n",
       "      <td>2.103330e+05</td>\n",
       "    </tr>\n",
       "    <tr>\n",
       "      <th>45</th>\n",
       "      <td>11:11</td>\n",
       "      <td>2021-05-01</td>\n",
       "      <td>34.885947</td>\n",
       "      <td>-0.078686</td>\n",
       "      <td>9.958000e+09</td>\n",
       "      <td>-0.195516</td>\n",
       "      <td>8.460480e+05</td>\n",
       "    </tr>\n",
       "    <tr>\n",
       "      <th>46</th>\n",
       "      <td>11:11</td>\n",
       "      <td>2021-06-01</td>\n",
       "      <td>36.787500</td>\n",
       "      <td>0.054508</td>\n",
       "      <td>4.590000e+10</td>\n",
       "      <td>-0.270800</td>\n",
       "      <td>5.482600e+04</td>\n",
       "    </tr>\n",
       "    <tr>\n",
       "      <th>47</th>\n",
       "      <td>11:11</td>\n",
       "      <td>2021-07-01</td>\n",
       "      <td>38.094300</td>\n",
       "      <td>0.035523</td>\n",
       "      <td>5.768000e+10</td>\n",
       "      <td>-0.151143</td>\n",
       "      <td>6.885700e+04</td>\n",
       "    </tr>\n",
       "    <tr>\n",
       "      <th>48</th>\n",
       "      <td>11:11</td>\n",
       "      <td>2021-08-01</td>\n",
       "      <td>42.284710</td>\n",
       "      <td>0.110001</td>\n",
       "      <td>6.702000e+09</td>\n",
       "      <td>-0.325709</td>\n",
       "      <td>6.349000e+09</td>\n",
       "    </tr>\n",
       "    <tr>\n",
       "      <th>49</th>\n",
       "      <td>11:11</td>\n",
       "      <td>2021-09-01</td>\n",
       "      <td>38.279869</td>\n",
       "      <td>-0.094711</td>\n",
       "      <td>8.964000e+09</td>\n",
       "      <td>0.485852</td>\n",
       "      <td>7.025200e+09</td>\n",
       "    </tr>\n",
       "  </tbody>\n",
       "</table>\n",
       "</div>"
      ],
      "text/plain": [
       "    Brand     Months        ARP  vs. Prior Period (ARP)   Total Units  \\\n",
       "31  11:11 2020-03-01   9.037983                0.279730  7.975400e+10   \n",
       "32  11:11 2020-04-01  10.281978                0.137641  9.354900e+10   \n",
       "33  11:11 2020-05-01  10.502285                0.021427  1.780000e+09   \n",
       "34  11:11 2020-06-01  15.972395                0.520849  7.100000e+08   \n",
       "35  11:11 2020-07-01  43.422733                1.718611  6.700000e+08   \n",
       "36  11:11 2020-08-01  52.324609                0.205005  3.600000e+08   \n",
       "37  11:11 2020-09-01  51.065082               -0.024071  3.600000e+09   \n",
       "38  11:11 2020-10-01  41.082436               -0.195489  6.900000e+08   \n",
       "39  11:11 2020-11-01  46.861609                0.140673  9.970000e+09   \n",
       "40  11:11 2020-12-01  42.193026               -0.099625  1.658000e+09   \n",
       "41  11:11 2021-01-01  43.618650                0.033788  7.935000e+10   \n",
       "42  11:11 2021-02-01  35.015444               -0.197237  1.319000e+03   \n",
       "43  11:11 2021-03-01  43.154885                0.232453  8.586000e+10   \n",
       "44  11:11 2021-04-01  37.865441               -0.122569  4.739000e+10   \n",
       "45  11:11 2021-05-01  34.885947               -0.078686  9.958000e+09   \n",
       "46  11:11 2021-06-01  36.787500                0.054508  4.590000e+10   \n",
       "47  11:11 2021-07-01  38.094300                0.035523  5.768000e+10   \n",
       "48  11:11 2021-08-01  42.284710                0.110001  6.702000e+09   \n",
       "49  11:11 2021-09-01  38.279869               -0.094711  8.964000e+09   \n",
       "\n",
       "    vs. Prior Period (Units)  Total Sales ($)  \n",
       "31                  0.936358     9.540540e+10  \n",
       "32                 -0.270734     8.883210e+05  \n",
       "33                 -0.572958     3.991200e+04  \n",
       "34                 -0.742249     6.471000e+10  \n",
       "35                 -0.621271     7.533000e+03  \n",
       "36                 -0.197298     2.022800e+04  \n",
       "37                 -0.172422     9.950700e+04  \n",
       "38                  1.016996     9.724900e+10  \n",
       "39                  0.755872     8.222000e+03  \n",
       "40                  1.374325     9.653090e+05  \n",
       "41                 -0.386960     4.813100e+04  \n",
       "42                  0.409196     2.349200e+09  \n",
       "43                  0.248825     4.730300e+04  \n",
       "44                  0.111347     2.103330e+05  \n",
       "45                 -0.195516     8.460480e+05  \n",
       "46                 -0.270800     5.482600e+04  \n",
       "47                 -0.151143     6.885700e+04  \n",
       "48                 -0.325709     6.349000e+09  \n",
       "49                  0.485852     7.025200e+09  "
      ]
     },
     "execution_count": 58,
     "metadata": {},
     "output_type": "execute_result"
    }
   ],
   "source": [
    "# starting with a single brand\n",
    "\n",
    "blah = tester[tester.Brand == '11:11']\n",
    "blah"
   ]
  },
  {
   "cell_type": "code",
   "execution_count": null,
   "metadata": {},
   "outputs": [],
   "source": []
  },
  {
   "cell_type": "code",
   "execution_count": null,
   "metadata": {},
   "outputs": [],
   "source": []
  },
  {
   "cell_type": "code",
   "execution_count": null,
   "metadata": {},
   "outputs": [],
   "source": []
  },
  {
   "cell_type": "code",
   "execution_count": null,
   "metadata": {},
   "outputs": [],
   "source": []
  },
  {
   "cell_type": "code",
   "execution_count": null,
   "metadata": {},
   "outputs": [],
   "source": []
  },
  {
   "cell_type": "code",
   "execution_count": null,
   "metadata": {},
   "outputs": [],
   "source": []
  },
  {
   "cell_type": "code",
   "execution_count": null,
   "metadata": {},
   "outputs": [],
   "source": []
  },
  {
   "cell_type": "code",
   "execution_count": null,
   "metadata": {},
   "outputs": [],
   "source": []
  },
  {
   "cell_type": "code",
   "execution_count": null,
   "metadata": {},
   "outputs": [],
   "source": []
  },
  {
   "cell_type": "code",
   "execution_count": null,
   "metadata": {},
   "outputs": [],
   "source": []
  },
  {
   "cell_type": "code",
   "execution_count": null,
   "metadata": {},
   "outputs": [],
   "source": []
  },
  {
   "cell_type": "code",
   "execution_count": null,
   "metadata": {},
   "outputs": [],
   "source": []
  },
  {
   "cell_type": "code",
   "execution_count": null,
   "metadata": {},
   "outputs": [],
   "source": []
  },
  {
   "cell_type": "code",
   "execution_count": null,
   "metadata": {},
   "outputs": [],
   "source": []
  },
  {
   "cell_type": "code",
   "execution_count": null,
   "metadata": {},
   "outputs": [],
   "source": []
  },
  {
   "cell_type": "code",
   "execution_count": null,
   "metadata": {},
   "outputs": [],
   "source": []
  },
  {
   "cell_type": "code",
   "execution_count": null,
   "metadata": {},
   "outputs": [],
   "source": []
  },
  {
   "cell_type": "code",
   "execution_count": null,
   "metadata": {},
   "outputs": [],
   "source": []
  },
  {
   "cell_type": "code",
   "execution_count": null,
   "metadata": {},
   "outputs": [],
   "source": []
  },
  {
   "cell_type": "code",
   "execution_count": null,
   "metadata": {},
   "outputs": [],
   "source": []
  },
  {
   "cell_type": "code",
   "execution_count": null,
   "metadata": {},
   "outputs": [],
   "source": []
  },
  {
   "cell_type": "code",
   "execution_count": null,
   "metadata": {},
   "outputs": [],
   "source": []
  },
  {
   "cell_type": "code",
   "execution_count": null,
   "metadata": {},
   "outputs": [],
   "source": []
  },
  {
   "cell_type": "code",
   "execution_count": null,
   "metadata": {},
   "outputs": [],
   "source": []
  }
 ],
 "metadata": {
  "kernelspec": {
   "display_name": "Python 3",
   "language": "python",
   "name": "python3"
  },
  "language_info": {
   "codemirror_mode": {
    "name": "ipython",
    "version": 3
   },
   "file_extension": ".py",
   "mimetype": "text/x-python",
   "name": "python",
   "nbconvert_exporter": "python",
   "pygments_lexer": "ipython3",
   "version": "3.8.5"
  }
 },
 "nbformat": 4,
 "nbformat_minor": 5
}
