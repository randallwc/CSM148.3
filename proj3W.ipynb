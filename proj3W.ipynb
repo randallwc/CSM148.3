{
 "cells": [
  {
   "cell_type": "code",
   "execution_count": 1,
   "id": "631baeda-0da5-42f2-99b9-9ca6b1f21b01",
   "metadata": {},
   "outputs": [],
   "source": [
    "from sklearn import metrics\n",
    "from sklearn.base import BaseEstimator, TransformerMixin\n",
    "from sklearn.cluster import KMeans\n",
    "from sklearn.compose import ColumnTransformer\n",
    "from sklearn.impute import SimpleImputer\n",
    "from sklearn.linear_model import Lasso, LinearRegression, LogisticRegression\n",
    "from sklearn.metrics import confusion_matrix, mean_absolute_error\n",
    "from sklearn.model_selection import train_test_split, cross_val_score, GridSearchCV\n",
    "from sklearn.neighbors import KNeighborsClassifier\n",
    "from sklearn.pipeline import Pipeline\n",
    "from sklearn.preprocessing import OneHotEncoder, StandardScaler\n",
    "from sklearn.svm import SVC\n",
    "from sklearn.tree import DecisionTreeClassifier\n",
    "import matplotlib.pyplot as plt\n",
    "import numpy as np\n",
    "import os\n",
    "import pandas as pd\n",
    "import seaborn as sns\n",
    "import sklearn.metrics.cluster as smc"
   ]
  },
  {
   "cell_type": "code",
   "execution_count": 2,
   "id": "df89f645-f216-4676-a191-df3e0737e068",
   "metadata": {},
   "outputs": [],
   "source": [
    "brandTotalSales_df_raw = pd.read_csv(os.path.join('data','BrandTotalSales.csv'))\n",
    "brandTotalUnits_df_raw = pd.read_csv(os.path.join('data','BrandTotalUnits.csv'))\n",
    "brandAverageRetailPrice_df_raw = pd.read_csv(os.path.join('data','BrandAverageRetailPrice.csv'))\n",
    "brandDetails_df_raw = pd.read_csv(os.path.join('data','BrandDetails.csv'))"
   ]
  },
  {
   "cell_type": "markdown",
   "id": "c5a8a0a7-077f-438e-bc59-d0a6011bf381",
   "metadata": {},
   "source": [
    "# brand total sales"
   ]
  },
  {
   "cell_type": "code",
   "execution_count": 3,
   "id": "66c9f7d3-33d0-44a3-b213-f012f8c4ad8d",
   "metadata": {},
   "outputs": [
    {
     "data": {
      "text/html": [
       "<div>\n",
       "<style scoped>\n",
       "    .dataframe tbody tr th:only-of-type {\n",
       "        vertical-align: middle;\n",
       "    }\n",
       "\n",
       "    .dataframe tbody tr th {\n",
       "        vertical-align: top;\n",
       "    }\n",
       "\n",
       "    .dataframe thead th {\n",
       "        text-align: right;\n",
       "    }\n",
       "</style>\n",
       "<table border=\"1\" class=\"dataframe\">\n",
       "  <thead>\n",
       "    <tr style=\"text-align: right;\">\n",
       "      <th></th>\n",
       "      <th>Months</th>\n",
       "      <th>Brand</th>\n",
       "      <th>Total Sales ($)</th>\n",
       "    </tr>\n",
       "  </thead>\n",
       "  <tbody>\n",
       "    <tr>\n",
       "      <th>0</th>\n",
       "      <td>09/2018</td>\n",
       "      <td>10x Infused</td>\n",
       "      <td>1,711.334232</td>\n",
       "    </tr>\n",
       "    <tr>\n",
       "      <th>1</th>\n",
       "      <td>09/2018</td>\n",
       "      <td>1964 Supply Co.</td>\n",
       "      <td>25,475.21594500000</td>\n",
       "    </tr>\n",
       "    <tr>\n",
       "      <th>2</th>\n",
       "      <td>09/2018</td>\n",
       "      <td>3 Bros Grow</td>\n",
       "      <td>120,153.644757</td>\n",
       "    </tr>\n",
       "    <tr>\n",
       "      <th>3</th>\n",
       "      <td>09/2018</td>\n",
       "      <td>3 Leaf</td>\n",
       "      <td>6,063.5297850000000</td>\n",
       "    </tr>\n",
       "    <tr>\n",
       "      <th>4</th>\n",
       "      <td>09/2018</td>\n",
       "      <td>350 Fire</td>\n",
       "      <td>631,510.0481550000</td>\n",
       "    </tr>\n",
       "  </tbody>\n",
       "</table>\n",
       "</div>"
      ],
      "text/plain": [
       "    Months            Brand      Total Sales ($)\n",
       "0  09/2018      10x Infused         1,711.334232\n",
       "1  09/2018  1964 Supply Co.   25,475.21594500000\n",
       "2  09/2018      3 Bros Grow       120,153.644757\n",
       "3  09/2018           3 Leaf  6,063.5297850000000\n",
       "4  09/2018         350 Fire   631,510.0481550000"
      ]
     },
     "execution_count": 3,
     "metadata": {},
     "output_type": "execute_result"
    }
   ],
   "source": [
    "brandTotalSales_df_raw.head(5)"
   ]
  },
  {
   "cell_type": "code",
   "execution_count": 4,
   "id": "66e9eeee-c555-4c3a-9359-3fde3f0084a9",
   "metadata": {},
   "outputs": [
    {
     "name": "stdout",
     "output_type": "stream",
     "text": [
      "<class 'pandas.core.frame.DataFrame'>\n",
      "RangeIndex: 25279 entries, 0 to 25278\n",
      "Data columns (total 3 columns):\n",
      " #   Column           Non-Null Count  Dtype \n",
      "---  ------           --------------  ----- \n",
      " 0   Months           25279 non-null  object\n",
      " 1   Brand            25279 non-null  object\n",
      " 2   Total Sales ($)  25279 non-null  object\n",
      "dtypes: object(3)\n",
      "memory usage: 592.6+ KB\n"
     ]
    }
   ],
   "source": [
    "brandTotalSales_df_raw.info()"
   ]
  },
  {
   "cell_type": "code",
   "execution_count": 5,
   "id": "96e68334-3c96-4cfa-9b93-dc2c419ca2ab",
   "metadata": {},
   "outputs": [
    {
     "data": {
      "text/html": [
       "<div>\n",
       "<style scoped>\n",
       "    .dataframe tbody tr th:only-of-type {\n",
       "        vertical-align: middle;\n",
       "    }\n",
       "\n",
       "    .dataframe tbody tr th {\n",
       "        vertical-align: top;\n",
       "    }\n",
       "\n",
       "    .dataframe thead th {\n",
       "        text-align: right;\n",
       "    }\n",
       "</style>\n",
       "<table border=\"1\" class=\"dataframe\">\n",
       "  <thead>\n",
       "    <tr style=\"text-align: right;\">\n",
       "      <th></th>\n",
       "      <th>Months</th>\n",
       "      <th>Brand</th>\n",
       "      <th>Total Sales ($)</th>\n",
       "    </tr>\n",
       "  </thead>\n",
       "  <tbody>\n",
       "    <tr>\n",
       "      <th>count</th>\n",
       "      <td>25279</td>\n",
       "      <td>25279</td>\n",
       "      <td>25279</td>\n",
       "    </tr>\n",
       "    <tr>\n",
       "      <th>unique</th>\n",
       "      <td>37</td>\n",
       "      <td>1627</td>\n",
       "      <td>25277</td>\n",
       "    </tr>\n",
       "    <tr>\n",
       "      <th>top</th>\n",
       "      <td>05/2021</td>\n",
       "      <td>Lift Ticket Laboratories</td>\n",
       "      <td>0</td>\n",
       "    </tr>\n",
       "    <tr>\n",
       "      <th>freq</th>\n",
       "      <td>848</td>\n",
       "      <td>37</td>\n",
       "      <td>3</td>\n",
       "    </tr>\n",
       "  </tbody>\n",
       "</table>\n",
       "</div>"
      ],
      "text/plain": [
       "         Months                     Brand Total Sales ($)\n",
       "count     25279                     25279           25279\n",
       "unique       37                      1627           25277\n",
       "top     05/2021  Lift Ticket Laboratories               0\n",
       "freq        848                        37               3"
      ]
     },
     "execution_count": 5,
     "metadata": {},
     "output_type": "execute_result"
    }
   ],
   "source": [
    "brandTotalSales_df_raw.describe()"
   ]
  },
  {
   "cell_type": "markdown",
   "id": "ef18ae8c-7fb9-467a-8c80-ac2802f56003",
   "metadata": {},
   "source": [
    "# brand total units"
   ]
  },
  {
   "cell_type": "code",
   "execution_count": 6,
   "id": "9612e886-62cd-470c-86fe-0f232d324ab6",
   "metadata": {},
   "outputs": [
    {
     "data": {
      "text/html": [
       "<div>\n",
       "<style scoped>\n",
       "    .dataframe tbody tr th:only-of-type {\n",
       "        vertical-align: middle;\n",
       "    }\n",
       "\n",
       "    .dataframe tbody tr th {\n",
       "        vertical-align: top;\n",
       "    }\n",
       "\n",
       "    .dataframe thead th {\n",
       "        text-align: right;\n",
       "    }\n",
       "</style>\n",
       "<table border=\"1\" class=\"dataframe\">\n",
       "  <thead>\n",
       "    <tr style=\"text-align: right;\">\n",
       "      <th></th>\n",
       "      <th>Brands</th>\n",
       "      <th>Months</th>\n",
       "      <th>Total Units</th>\n",
       "      <th>vs. Prior Period</th>\n",
       "    </tr>\n",
       "  </thead>\n",
       "  <tbody>\n",
       "    <tr>\n",
       "      <th>0</th>\n",
       "      <td>#BlackSeries</td>\n",
       "      <td>08/2020</td>\n",
       "      <td>1,616.3390040000000</td>\n",
       "      <td>NaN</td>\n",
       "    </tr>\n",
       "    <tr>\n",
       "      <th>1</th>\n",
       "      <td>#BlackSeries</td>\n",
       "      <td>09/2020</td>\n",
       "      <td>NaN</td>\n",
       "      <td>-1.000000</td>\n",
       "    </tr>\n",
       "    <tr>\n",
       "      <th>2</th>\n",
       "      <td>#BlackSeries</td>\n",
       "      <td>01/2021</td>\n",
       "      <td>715.5328380000000</td>\n",
       "      <td>NaN</td>\n",
       "    </tr>\n",
       "    <tr>\n",
       "      <th>3</th>\n",
       "      <td>#BlackSeries</td>\n",
       "      <td>02/2021</td>\n",
       "      <td>766.669135</td>\n",
       "      <td>0.071466</td>\n",
       "    </tr>\n",
       "    <tr>\n",
       "      <th>4</th>\n",
       "      <td>#BlackSeries</td>\n",
       "      <td>03/2021</td>\n",
       "      <td>NaN</td>\n",
       "      <td>-1.000000</td>\n",
       "    </tr>\n",
       "  </tbody>\n",
       "</table>\n",
       "</div>"
      ],
      "text/plain": [
       "         Brands   Months          Total Units  vs. Prior Period\n",
       "0  #BlackSeries  08/2020  1,616.3390040000000               NaN\n",
       "1  #BlackSeries  09/2020                  NaN         -1.000000\n",
       "2  #BlackSeries  01/2021    715.5328380000000               NaN\n",
       "3  #BlackSeries  02/2021           766.669135          0.071466\n",
       "4  #BlackSeries  03/2021                  NaN         -1.000000"
      ]
     },
     "execution_count": 6,
     "metadata": {},
     "output_type": "execute_result"
    }
   ],
   "source": [
    "brandTotalUnits_df_raw.head(5)"
   ]
  },
  {
   "cell_type": "code",
   "execution_count": 7,
   "id": "21b8a657-42fd-4f41-b1cc-76ab08ce1a5f",
   "metadata": {},
   "outputs": [
    {
     "name": "stdout",
     "output_type": "stream",
     "text": [
      "<class 'pandas.core.frame.DataFrame'>\n",
      "RangeIndex: 27686 entries, 0 to 27685\n",
      "Data columns (total 4 columns):\n",
      " #   Column            Non-Null Count  Dtype  \n",
      "---  ------            --------------  -----  \n",
      " 0   Brands            27686 non-null  object \n",
      " 1   Months            27686 non-null  object \n",
      " 2   Total Units       25712 non-null  object \n",
      " 3   vs. Prior Period  24935 non-null  float64\n",
      "dtypes: float64(1), object(3)\n",
      "memory usage: 865.3+ KB\n"
     ]
    }
   ],
   "source": [
    "brandTotalUnits_df_raw.info()"
   ]
  },
  {
   "cell_type": "code",
   "execution_count": 8,
   "id": "d79f31cc-37b5-4c01-9bf7-0d8eecc7595b",
   "metadata": {},
   "outputs": [
    {
     "data": {
      "text/html": [
       "<div>\n",
       "<style scoped>\n",
       "    .dataframe tbody tr th:only-of-type {\n",
       "        vertical-align: middle;\n",
       "    }\n",
       "\n",
       "    .dataframe tbody tr th {\n",
       "        vertical-align: top;\n",
       "    }\n",
       "\n",
       "    .dataframe thead th {\n",
       "        text-align: right;\n",
       "    }\n",
       "</style>\n",
       "<table border=\"1\" class=\"dataframe\">\n",
       "  <thead>\n",
       "    <tr style=\"text-align: right;\">\n",
       "      <th></th>\n",
       "      <th>vs. Prior Period</th>\n",
       "    </tr>\n",
       "  </thead>\n",
       "  <tbody>\n",
       "    <tr>\n",
       "      <th>count</th>\n",
       "      <td>24935.000000</td>\n",
       "    </tr>\n",
       "    <tr>\n",
       "      <th>mean</th>\n",
       "      <td>0.265306</td>\n",
       "    </tr>\n",
       "    <tr>\n",
       "      <th>std</th>\n",
       "      <td>3.291373</td>\n",
       "    </tr>\n",
       "    <tr>\n",
       "      <th>min</th>\n",
       "      <td>-1.000000</td>\n",
       "    </tr>\n",
       "    <tr>\n",
       "      <th>25%</th>\n",
       "      <td>-0.351822</td>\n",
       "    </tr>\n",
       "    <tr>\n",
       "      <th>50%</th>\n",
       "      <td>-0.055216</td>\n",
       "    </tr>\n",
       "    <tr>\n",
       "      <th>75%</th>\n",
       "      <td>0.240113</td>\n",
       "    </tr>\n",
       "    <tr>\n",
       "      <th>max</th>\n",
       "      <td>250.792020</td>\n",
       "    </tr>\n",
       "  </tbody>\n",
       "</table>\n",
       "</div>"
      ],
      "text/plain": [
       "       vs. Prior Period\n",
       "count      24935.000000\n",
       "mean           0.265306\n",
       "std            3.291373\n",
       "min           -1.000000\n",
       "25%           -0.351822\n",
       "50%           -0.055216\n",
       "75%            0.240113\n",
       "max          250.792020"
      ]
     },
     "execution_count": 8,
     "metadata": {},
     "output_type": "execute_result"
    }
   ],
   "source": [
    "brandTotalUnits_df_raw.describe()"
   ]
  },
  {
   "cell_type": "markdown",
   "id": "857f723d-06e8-486e-a6cc-bcb5cd073fab",
   "metadata": {},
   "source": [
    "# brand average retail price"
   ]
  },
  {
   "cell_type": "code",
   "execution_count": 9,
   "id": "5f34602f-f120-4a3f-b984-ff672bc15a09",
   "metadata": {},
   "outputs": [
    {
     "data": {
      "text/html": [
       "<div>\n",
       "<style scoped>\n",
       "    .dataframe tbody tr th:only-of-type {\n",
       "        vertical-align: middle;\n",
       "    }\n",
       "\n",
       "    .dataframe tbody tr th {\n",
       "        vertical-align: top;\n",
       "    }\n",
       "\n",
       "    .dataframe thead th {\n",
       "        text-align: right;\n",
       "    }\n",
       "</style>\n",
       "<table border=\"1\" class=\"dataframe\">\n",
       "  <thead>\n",
       "    <tr style=\"text-align: right;\">\n",
       "      <th></th>\n",
       "      <th>Brands</th>\n",
       "      <th>Months</th>\n",
       "      <th>ARP</th>\n",
       "      <th>vs. Prior Period</th>\n",
       "    </tr>\n",
       "  </thead>\n",
       "  <tbody>\n",
       "    <tr>\n",
       "      <th>0</th>\n",
       "      <td>#BlackSeries</td>\n",
       "      <td>08/2020</td>\n",
       "      <td>15.684913</td>\n",
       "      <td>NaN</td>\n",
       "    </tr>\n",
       "    <tr>\n",
       "      <th>1</th>\n",
       "      <td>#BlackSeries</td>\n",
       "      <td>09/2020</td>\n",
       "      <td>NaN</td>\n",
       "      <td>-1.000000</td>\n",
       "    </tr>\n",
       "    <tr>\n",
       "      <th>2</th>\n",
       "      <td>#BlackSeries</td>\n",
       "      <td>01/2021</td>\n",
       "      <td>13.611428</td>\n",
       "      <td>NaN</td>\n",
       "    </tr>\n",
       "    <tr>\n",
       "      <th>3</th>\n",
       "      <td>#BlackSeries</td>\n",
       "      <td>02/2021</td>\n",
       "      <td>11.873182</td>\n",
       "      <td>-0.127705</td>\n",
       "    </tr>\n",
       "    <tr>\n",
       "      <th>4</th>\n",
       "      <td>#BlackSeries</td>\n",
       "      <td>03/2021</td>\n",
       "      <td>NaN</td>\n",
       "      <td>-1.000000</td>\n",
       "    </tr>\n",
       "  </tbody>\n",
       "</table>\n",
       "</div>"
      ],
      "text/plain": [
       "         Brands   Months        ARP  vs. Prior Period\n",
       "0  #BlackSeries  08/2020  15.684913               NaN\n",
       "1  #BlackSeries  09/2020        NaN         -1.000000\n",
       "2  #BlackSeries  01/2021  13.611428               NaN\n",
       "3  #BlackSeries  02/2021  11.873182         -0.127705\n",
       "4  #BlackSeries  03/2021        NaN         -1.000000"
      ]
     },
     "execution_count": 9,
     "metadata": {},
     "output_type": "execute_result"
    }
   ],
   "source": [
    "brandAverageRetailPrice_df_raw.head(5)"
   ]
  },
  {
   "cell_type": "code",
   "execution_count": 10,
   "id": "0ca12096-17f3-431e-90fb-aeba66cc9119",
   "metadata": {},
   "outputs": [
    {
     "name": "stdout",
     "output_type": "stream",
     "text": [
      "<class 'pandas.core.frame.DataFrame'>\n",
      "RangeIndex: 27211 entries, 0 to 27210\n",
      "Data columns (total 4 columns):\n",
      " #   Column            Non-Null Count  Dtype  \n",
      "---  ------            --------------  -----  \n",
      " 0   Brands            27211 non-null  object \n",
      " 1   Months            27211 non-null  object \n",
      " 2   ARP               25279 non-null  float64\n",
      " 3   vs. Prior Period  24499 non-null  float64\n",
      "dtypes: float64(2), object(2)\n",
      "memory usage: 850.5+ KB\n"
     ]
    }
   ],
   "source": [
    "brandAverageRetailPrice_df_raw.info()"
   ]
  },
  {
   "cell_type": "code",
   "execution_count": 11,
   "id": "9effad7c-6549-4746-83dc-708bae5909d0",
   "metadata": {},
   "outputs": [
    {
     "data": {
      "text/html": [
       "<div>\n",
       "<style scoped>\n",
       "    .dataframe tbody tr th:only-of-type {\n",
       "        vertical-align: middle;\n",
       "    }\n",
       "\n",
       "    .dataframe tbody tr th {\n",
       "        vertical-align: top;\n",
       "    }\n",
       "\n",
       "    .dataframe thead th {\n",
       "        text-align: right;\n",
       "    }\n",
       "</style>\n",
       "<table border=\"1\" class=\"dataframe\">\n",
       "  <thead>\n",
       "    <tr style=\"text-align: right;\">\n",
       "      <th></th>\n",
       "      <th>ARP</th>\n",
       "      <th>vs. Prior Period</th>\n",
       "    </tr>\n",
       "  </thead>\n",
       "  <tbody>\n",
       "    <tr>\n",
       "      <th>count</th>\n",
       "      <td>25279.000000</td>\n",
       "      <td>24499.000000</td>\n",
       "    </tr>\n",
       "    <tr>\n",
       "      <th>mean</th>\n",
       "      <td>22.679732</td>\n",
       "      <td>-0.065028</td>\n",
       "    </tr>\n",
       "    <tr>\n",
       "      <th>std</th>\n",
       "      <td>19.802724</td>\n",
       "      <td>0.388923</td>\n",
       "    </tr>\n",
       "    <tr>\n",
       "      <th>min</th>\n",
       "      <td>0.000000</td>\n",
       "      <td>-1.000000</td>\n",
       "    </tr>\n",
       "    <tr>\n",
       "      <th>25%</th>\n",
       "      <td>10.512827</td>\n",
       "      <td>-0.088073</td>\n",
       "    </tr>\n",
       "    <tr>\n",
       "      <th>50%</th>\n",
       "      <td>17.033051</td>\n",
       "      <td>-0.011649</td>\n",
       "    </tr>\n",
       "    <tr>\n",
       "      <th>75%</th>\n",
       "      <td>31.505612</td>\n",
       "      <td>0.045232</td>\n",
       "    </tr>\n",
       "    <tr>\n",
       "      <th>max</th>\n",
       "      <td>700.874984</td>\n",
       "      <td>12.645741</td>\n",
       "    </tr>\n",
       "  </tbody>\n",
       "</table>\n",
       "</div>"
      ],
      "text/plain": [
       "                ARP  vs. Prior Period\n",
       "count  25279.000000      24499.000000\n",
       "mean      22.679732         -0.065028\n",
       "std       19.802724          0.388923\n",
       "min        0.000000         -1.000000\n",
       "25%       10.512827         -0.088073\n",
       "50%       17.033051         -0.011649\n",
       "75%       31.505612          0.045232\n",
       "max      700.874984         12.645741"
      ]
     },
     "execution_count": 11,
     "metadata": {},
     "output_type": "execute_result"
    }
   ],
   "source": [
    "brandAverageRetailPrice_df_raw.describe()"
   ]
  },
  {
   "cell_type": "markdown",
   "id": "18b72b93-720c-42a3-a4a5-036962a7b346",
   "metadata": {},
   "source": [
    "# brand details"
   ]
  },
  {
   "cell_type": "code",
   "execution_count": 12,
   "id": "866d3caf-b0be-47de-b820-2d9aa5389533",
   "metadata": {},
   "outputs": [
    {
     "data": {
      "text/html": [
       "<div>\n",
       "<style scoped>\n",
       "    .dataframe tbody tr th:only-of-type {\n",
       "        vertical-align: middle;\n",
       "    }\n",
       "\n",
       "    .dataframe tbody tr th {\n",
       "        vertical-align: top;\n",
       "    }\n",
       "\n",
       "    .dataframe thead th {\n",
       "        text-align: right;\n",
       "    }\n",
       "</style>\n",
       "<table border=\"1\" class=\"dataframe\">\n",
       "  <thead>\n",
       "    <tr style=\"text-align: right;\">\n",
       "      <th></th>\n",
       "      <th>State</th>\n",
       "      <th>Channel</th>\n",
       "      <th>Category L1</th>\n",
       "      <th>Category L2</th>\n",
       "      <th>Category L3</th>\n",
       "      <th>Category L4</th>\n",
       "      <th>Category L5</th>\n",
       "      <th>Brand</th>\n",
       "      <th>Product Description</th>\n",
       "      <th>Total Sales ($)</th>\n",
       "      <th>...</th>\n",
       "      <th>Total THC</th>\n",
       "      <th>Total CBD</th>\n",
       "      <th>Contains CBD</th>\n",
       "      <th>Pax Filter</th>\n",
       "      <th>Strain</th>\n",
       "      <th>Is Flavored</th>\n",
       "      <th>Mood Effect</th>\n",
       "      <th>Generic Vendor</th>\n",
       "      <th>Generic Items</th>\n",
       "      <th>$5 Price Increment</th>\n",
       "    </tr>\n",
       "  </thead>\n",
       "  <tbody>\n",
       "    <tr>\n",
       "      <th>0</th>\n",
       "      <td>California</td>\n",
       "      <td>Licensed</td>\n",
       "      <td>Inhaleables</td>\n",
       "      <td>Flower</td>\n",
       "      <td>Hybrid</td>\n",
       "      <td>NaN</td>\n",
       "      <td>NaN</td>\n",
       "      <td>#BlackSeries</td>\n",
       "      <td>#BlackSeries - Vanilla Frosting - Flower (Gram)</td>\n",
       "      <td>1,103.964857</td>\n",
       "      <td>...</td>\n",
       "      <td>0</td>\n",
       "      <td>0</td>\n",
       "      <td>THC Only</td>\n",
       "      <td>NaN</td>\n",
       "      <td>Vanilla Frosting</td>\n",
       "      <td>NaN</td>\n",
       "      <td>Not Mood Specific</td>\n",
       "      <td>Non-Generic Vendors</td>\n",
       "      <td>Non-Generic Items</td>\n",
       "      <td>$10.00 to $14.99</td>\n",
       "    </tr>\n",
       "    <tr>\n",
       "      <th>1</th>\n",
       "      <td>California</td>\n",
       "      <td>Licensed</td>\n",
       "      <td>Inhaleables</td>\n",
       "      <td>Flower</td>\n",
       "      <td>Hybrid</td>\n",
       "      <td>NaN</td>\n",
       "      <td>NaN</td>\n",
       "      <td>#BlackSeries</td>\n",
       "      <td>#BlackSeries - Vanilla Frosting - Flower (Gram)</td>\n",
       "      <td>674.645211</td>\n",
       "      <td>...</td>\n",
       "      <td>0</td>\n",
       "      <td>0</td>\n",
       "      <td>THC Only</td>\n",
       "      <td>NaN</td>\n",
       "      <td>Vanilla Frosting</td>\n",
       "      <td>NaN</td>\n",
       "      <td>Not Mood Specific</td>\n",
       "      <td>Non-Generic Vendors</td>\n",
       "      <td>Non-Generic Items</td>\n",
       "      <td>$15.00 to $19.99</td>\n",
       "    </tr>\n",
       "    <tr>\n",
       "      <th>2</th>\n",
       "      <td>California</td>\n",
       "      <td>Licensed</td>\n",
       "      <td>Inhaleables</td>\n",
       "      <td>Flower</td>\n",
       "      <td>Sativa Dominant</td>\n",
       "      <td>NaN</td>\n",
       "      <td>NaN</td>\n",
       "      <td>#BlackSeries</td>\n",
       "      <td>#BlackSeries - Blueberry Slushy - Flower (Gram)</td>\n",
       "      <td>2,473.699102</td>\n",
       "      <td>...</td>\n",
       "      <td>0</td>\n",
       "      <td>0</td>\n",
       "      <td>THC Only</td>\n",
       "      <td>NaN</td>\n",
       "      <td>Blueberry Slushy</td>\n",
       "      <td>NaN</td>\n",
       "      <td>Not Mood Specific</td>\n",
       "      <td>Non-Generic Vendors</td>\n",
       "      <td>Non-Generic Items</td>\n",
       "      <td>$15.00 to $19.99</td>\n",
       "    </tr>\n",
       "    <tr>\n",
       "      <th>3</th>\n",
       "      <td>California</td>\n",
       "      <td>Licensed</td>\n",
       "      <td>Inhaleables</td>\n",
       "      <td>Flower</td>\n",
       "      <td>Sativa Dominant</td>\n",
       "      <td>NaN</td>\n",
       "      <td>NaN</td>\n",
       "      <td>#BlackSeries</td>\n",
       "      <td>#BlackSeries - Blueberry Slushy - Flower (Gram)</td>\n",
       "      <td>14,589.916417</td>\n",
       "      <td>...</td>\n",
       "      <td>0</td>\n",
       "      <td>0</td>\n",
       "      <td>THC Only</td>\n",
       "      <td>NaN</td>\n",
       "      <td>Blueberry Slushy</td>\n",
       "      <td>NaN</td>\n",
       "      <td>Not Mood Specific</td>\n",
       "      <td>Non-Generic Vendors</td>\n",
       "      <td>Non-Generic Items</td>\n",
       "      <td>$10.00 to $14.99</td>\n",
       "    </tr>\n",
       "    <tr>\n",
       "      <th>4</th>\n",
       "      <td>California</td>\n",
       "      <td>Licensed</td>\n",
       "      <td>Inhaleables</td>\n",
       "      <td>Concentrates</td>\n",
       "      <td>Dabbable Concentrates</td>\n",
       "      <td>Wax</td>\n",
       "      <td>NaN</td>\n",
       "      <td>101 Cannabis Co.</td>\n",
       "      <td>101 Cannabis Co. - Afghan Kush - Wax</td>\n",
       "      <td>145.39627</td>\n",
       "      <td>...</td>\n",
       "      <td>0</td>\n",
       "      <td>0</td>\n",
       "      <td>THC Only</td>\n",
       "      <td>NaN</td>\n",
       "      <td>Afghan Kush</td>\n",
       "      <td>NaN</td>\n",
       "      <td>Not Mood Specific</td>\n",
       "      <td>Non-Generic Vendors</td>\n",
       "      <td>Non-Generic Items</td>\n",
       "      <td>$35.00 to $39.99</td>\n",
       "    </tr>\n",
       "  </tbody>\n",
       "</table>\n",
       "<p>5 rows × 25 columns</p>\n",
       "</div>"
      ],
      "text/plain": [
       "        State   Channel  Category L1   Category L2            Category L3  \\\n",
       "0  California  Licensed  Inhaleables        Flower                 Hybrid   \n",
       "1  California  Licensed  Inhaleables        Flower                 Hybrid   \n",
       "2  California  Licensed  Inhaleables        Flower        Sativa Dominant   \n",
       "3  California  Licensed  Inhaleables        Flower        Sativa Dominant   \n",
       "4  California  Licensed  Inhaleables  Concentrates  Dabbable Concentrates   \n",
       "\n",
       "  Category L4 Category L5             Brand  \\\n",
       "0         NaN         NaN      #BlackSeries   \n",
       "1         NaN         NaN      #BlackSeries   \n",
       "2         NaN         NaN      #BlackSeries   \n",
       "3         NaN         NaN      #BlackSeries   \n",
       "4         Wax         NaN  101 Cannabis Co.   \n",
       "\n",
       "                               Product Description Total Sales ($)  ...  \\\n",
       "0  #BlackSeries - Vanilla Frosting - Flower (Gram)    1,103.964857  ...   \n",
       "1  #BlackSeries - Vanilla Frosting - Flower (Gram)      674.645211  ...   \n",
       "2  #BlackSeries - Blueberry Slushy - Flower (Gram)    2,473.699102  ...   \n",
       "3  #BlackSeries - Blueberry Slushy - Flower (Gram)   14,589.916417  ...   \n",
       "4             101 Cannabis Co. - Afghan Kush - Wax       145.39627  ...   \n",
       "\n",
       "  Total THC  Total CBD Contains CBD  Pax Filter            Strain Is Flavored  \\\n",
       "0         0          0     THC Only         NaN  Vanilla Frosting         NaN   \n",
       "1         0          0     THC Only         NaN  Vanilla Frosting         NaN   \n",
       "2         0          0     THC Only         NaN  Blueberry Slushy         NaN   \n",
       "3         0          0     THC Only         NaN  Blueberry Slushy         NaN   \n",
       "4         0          0     THC Only         NaN       Afghan Kush         NaN   \n",
       "\n",
       "         Mood Effect       Generic Vendor      Generic Items  \\\n",
       "0  Not Mood Specific  Non-Generic Vendors  Non-Generic Items   \n",
       "1  Not Mood Specific  Non-Generic Vendors  Non-Generic Items   \n",
       "2  Not Mood Specific  Non-Generic Vendors  Non-Generic Items   \n",
       "3  Not Mood Specific  Non-Generic Vendors  Non-Generic Items   \n",
       "4  Not Mood Specific  Non-Generic Vendors  Non-Generic Items   \n",
       "\n",
       "  $5 Price Increment  \n",
       "0   $10.00 to $14.99  \n",
       "1   $15.00 to $19.99  \n",
       "2   $15.00 to $19.99  \n",
       "3   $10.00 to $14.99  \n",
       "4   $35.00 to $39.99  \n",
       "\n",
       "[5 rows x 25 columns]"
      ]
     },
     "execution_count": 12,
     "metadata": {},
     "output_type": "execute_result"
    }
   ],
   "source": [
    "brandDetails_df_raw.head(5)"
   ]
  },
  {
   "cell_type": "code",
   "execution_count": 13,
   "id": "4e157160-91aa-492b-b95f-16bcf89432bf",
   "metadata": {},
   "outputs": [
    {
     "name": "stdout",
     "output_type": "stream",
     "text": [
      "<class 'pandas.core.frame.DataFrame'>\n",
      "RangeIndex: 144977 entries, 0 to 144976\n",
      "Data columns (total 25 columns):\n",
      " #   Column               Non-Null Count   Dtype  \n",
      "---  ------               --------------   -----  \n",
      " 0   State                144977 non-null  object \n",
      " 1   Channel              144977 non-null  object \n",
      " 2   Category L1          144977 non-null  object \n",
      " 3   Category L2          144977 non-null  object \n",
      " 4   Category L3          144245 non-null  object \n",
      " 5   Category L4          102618 non-null  object \n",
      " 6   Category L5          50135 non-null   object \n",
      " 7   Brand                144977 non-null  object \n",
      " 8   Product Description  144977 non-null  object \n",
      " 9   Total Sales ($)      144977 non-null  object \n",
      " 10  Total Units          144977 non-null  object \n",
      " 11  ARP                  144977 non-null  float64\n",
      " 12  Flavor               7807 non-null    object \n",
      " 13  Items Per Pack       144977 non-null  int64  \n",
      " 14  Item Weight          64454 non-null   object \n",
      " 15  Total THC            144977 non-null  object \n",
      " 16  Total CBD            144977 non-null  object \n",
      " 17  Contains CBD         144977 non-null  object \n",
      " 18  Pax Filter           44301 non-null   object \n",
      " 19  Strain               115639 non-null  object \n",
      " 20  Is Flavored          11287 non-null   object \n",
      " 21  Mood Effect          144977 non-null  object \n",
      " 22  Generic Vendor       144977 non-null  object \n",
      " 23  Generic Items        144977 non-null  object \n",
      " 24  $5 Price Increment   144977 non-null  object \n",
      "dtypes: float64(1), int64(1), object(23)\n",
      "memory usage: 27.7+ MB\n"
     ]
    }
   ],
   "source": [
    "brandDetails_df_raw.info()"
   ]
  },
  {
   "cell_type": "code",
   "execution_count": 14,
   "id": "be27dbc3-45c2-46c6-a7fe-b984c414c463",
   "metadata": {},
   "outputs": [
    {
     "data": {
      "text/html": [
       "<div>\n",
       "<style scoped>\n",
       "    .dataframe tbody tr th:only-of-type {\n",
       "        vertical-align: middle;\n",
       "    }\n",
       "\n",
       "    .dataframe tbody tr th {\n",
       "        vertical-align: top;\n",
       "    }\n",
       "\n",
       "    .dataframe thead th {\n",
       "        text-align: right;\n",
       "    }\n",
       "</style>\n",
       "<table border=\"1\" class=\"dataframe\">\n",
       "  <thead>\n",
       "    <tr style=\"text-align: right;\">\n",
       "      <th></th>\n",
       "      <th>ARP</th>\n",
       "      <th>Items Per Pack</th>\n",
       "    </tr>\n",
       "  </thead>\n",
       "  <tbody>\n",
       "    <tr>\n",
       "      <th>count</th>\n",
       "      <td>144977.000000</td>\n",
       "      <td>144977.000000</td>\n",
       "    </tr>\n",
       "    <tr>\n",
       "      <th>mean</th>\n",
       "      <td>30.828439</td>\n",
       "      <td>1.938259</td>\n",
       "    </tr>\n",
       "    <tr>\n",
       "      <th>std</th>\n",
       "      <td>19.367580</td>\n",
       "      <td>17.294108</td>\n",
       "    </tr>\n",
       "    <tr>\n",
       "      <th>min</th>\n",
       "      <td>0.000000</td>\n",
       "      <td>0.000000</td>\n",
       "    </tr>\n",
       "    <tr>\n",
       "      <th>25%</th>\n",
       "      <td>16.407796</td>\n",
       "      <td>0.000000</td>\n",
       "    </tr>\n",
       "    <tr>\n",
       "      <th>50%</th>\n",
       "      <td>28.073823</td>\n",
       "      <td>0.000000</td>\n",
       "    </tr>\n",
       "    <tr>\n",
       "      <th>75%</th>\n",
       "      <td>41.781699</td>\n",
       "      <td>0.000000</td>\n",
       "    </tr>\n",
       "    <tr>\n",
       "      <th>max</th>\n",
       "      <td>874.800010</td>\n",
       "      <td>1000.000000</td>\n",
       "    </tr>\n",
       "  </tbody>\n",
       "</table>\n",
       "</div>"
      ],
      "text/plain": [
       "                 ARP  Items Per Pack\n",
       "count  144977.000000   144977.000000\n",
       "mean       30.828439        1.938259\n",
       "std        19.367580       17.294108\n",
       "min         0.000000        0.000000\n",
       "25%        16.407796        0.000000\n",
       "50%        28.073823        0.000000\n",
       "75%        41.781699        0.000000\n",
       "max       874.800010     1000.000000"
      ]
     },
     "execution_count": 14,
     "metadata": {},
     "output_type": "execute_result"
    }
   ],
   "source": [
    "brandDetails_df_raw.describe()"
   ]
  },
  {
   "cell_type": "markdown",
   "id": "b8839572-58c2-42c1-b397-5704a73cca52",
   "metadata": {
    "tags": []
   },
   "source": [
    "# data cleaning"
   ]
  },
  {
   "cell_type": "markdown",
   "id": "27a7f9ae-a038-4cab-818d-3b9b2453afb7",
   "metadata": {},
   "source": [
    "## fix months"
   ]
  },
  {
   "cell_type": "code",
   "execution_count": 15,
   "id": "981557ec-8fb7-4023-9415-03d86b67df35",
   "metadata": {},
   "outputs": [],
   "source": [
    "# make months a date time\n",
    "brandTotalSales_df_raw['Months'] = pd.to_datetime(brandTotalSales_df_raw['Months'])\n",
    "brandTotalUnits_df_raw['Months'] = pd.to_datetime(brandTotalUnits_df_raw['Months'])\n",
    "brandAverageRetailPrice_df_raw['Months'] = pd.to_datetime(brandAverageRetailPrice_df_raw['Months'])"
   ]
  },
  {
   "cell_type": "markdown",
   "id": "50774a58-ef31-4ce2-a0c3-20b65d2d7602",
   "metadata": {},
   "source": [
    "## fix total sales"
   ]
  },
  {
   "cell_type": "code",
   "execution_count": 16,
   "id": "dc724457-7dee-4672-a476-98896c823567",
   "metadata": {},
   "outputs": [],
   "source": [
    "# make total sales floats\n",
    "brandTotalUnits_df_raw['Total Units'] = pd.to_numeric(brandTotalUnits_df_raw['Total Units'].str.replace(',','').str[:8])"
   ]
  },
  {
   "cell_type": "code",
   "execution_count": 17,
   "id": "1983eec8-93cf-407f-9ca7-07719416ec3c",
   "metadata": {},
   "outputs": [
    {
     "data": {
      "text/html": [
       "<div>\n",
       "<style scoped>\n",
       "    .dataframe tbody tr th:only-of-type {\n",
       "        vertical-align: middle;\n",
       "    }\n",
       "\n",
       "    .dataframe tbody tr th {\n",
       "        vertical-align: top;\n",
       "    }\n",
       "\n",
       "    .dataframe thead th {\n",
       "        text-align: right;\n",
       "    }\n",
       "</style>\n",
       "<table border=\"1\" class=\"dataframe\">\n",
       "  <thead>\n",
       "    <tr style=\"text-align: right;\">\n",
       "      <th></th>\n",
       "      <th>Brands</th>\n",
       "      <th>Months</th>\n",
       "      <th>Total Units</th>\n",
       "      <th>vs. Prior Period</th>\n",
       "    </tr>\n",
       "  </thead>\n",
       "  <tbody>\n",
       "    <tr>\n",
       "      <th>0</th>\n",
       "      <td>#BlackSeries</td>\n",
       "      <td>2020-08-01</td>\n",
       "      <td>1616.3390</td>\n",
       "      <td>NaN</td>\n",
       "    </tr>\n",
       "    <tr>\n",
       "      <th>1</th>\n",
       "      <td>#BlackSeries</td>\n",
       "      <td>2020-09-01</td>\n",
       "      <td>NaN</td>\n",
       "      <td>-1.000000</td>\n",
       "    </tr>\n",
       "    <tr>\n",
       "      <th>2</th>\n",
       "      <td>#BlackSeries</td>\n",
       "      <td>2021-01-01</td>\n",
       "      <td>715.5328</td>\n",
       "      <td>NaN</td>\n",
       "    </tr>\n",
       "    <tr>\n",
       "      <th>3</th>\n",
       "      <td>#BlackSeries</td>\n",
       "      <td>2021-02-01</td>\n",
       "      <td>766.6691</td>\n",
       "      <td>0.071466</td>\n",
       "    </tr>\n",
       "    <tr>\n",
       "      <th>4</th>\n",
       "      <td>#BlackSeries</td>\n",
       "      <td>2021-03-01</td>\n",
       "      <td>NaN</td>\n",
       "      <td>-1.000000</td>\n",
       "    </tr>\n",
       "  </tbody>\n",
       "</table>\n",
       "</div>"
      ],
      "text/plain": [
       "         Brands     Months  Total Units  vs. Prior Period\n",
       "0  #BlackSeries 2020-08-01    1616.3390               NaN\n",
       "1  #BlackSeries 2020-09-01          NaN         -1.000000\n",
       "2  #BlackSeries 2021-01-01     715.5328               NaN\n",
       "3  #BlackSeries 2021-02-01     766.6691          0.071466\n",
       "4  #BlackSeries 2021-03-01          NaN         -1.000000"
      ]
     },
     "execution_count": 17,
     "metadata": {},
     "output_type": "execute_result"
    }
   ],
   "source": [
    "brandTotalUnits_df_raw.head(5)"
   ]
  },
  {
   "cell_type": "code",
   "execution_count": 18,
   "id": "2a5e2d92-7f1b-494a-92a1-544242df89a3",
   "metadata": {},
   "outputs": [
    {
     "name": "stdout",
     "output_type": "stream",
     "text": [
      "<class 'pandas.core.frame.DataFrame'>\n",
      "RangeIndex: 27686 entries, 0 to 27685\n",
      "Data columns (total 4 columns):\n",
      " #   Column            Non-Null Count  Dtype         \n",
      "---  ------            --------------  -----         \n",
      " 0   Brands            27686 non-null  object        \n",
      " 1   Months            27686 non-null  datetime64[ns]\n",
      " 2   Total Units       25712 non-null  float64       \n",
      " 3   vs. Prior Period  24935 non-null  float64       \n",
      "dtypes: datetime64[ns](1), float64(2), object(1)\n",
      "memory usage: 865.3+ KB\n"
     ]
    }
   ],
   "source": [
    "brandTotalUnits_df_raw.info()"
   ]
  },
  {
   "cell_type": "code",
   "execution_count": 19,
   "id": "81378462-4c12-4dfc-97ab-16d76faaaf61",
   "metadata": {},
   "outputs": [],
   "source": [
    "# make Total Sales ($) floats\n",
    "brandTotalSales_df_raw['Total Sales ($)'] = pd.to_numeric(brandTotalSales_df_raw['Total Sales ($)'].str.replace(',','').str[:8])"
   ]
  },
  {
   "cell_type": "code",
   "execution_count": 21,
   "id": "28a89fc9-01aa-4e47-90e8-736b9a91c8f5",
   "metadata": {},
   "outputs": [
    {
     "data": {
      "text/html": [
       "<div>\n",
       "<style scoped>\n",
       "    .dataframe tbody tr th:only-of-type {\n",
       "        vertical-align: middle;\n",
       "    }\n",
       "\n",
       "    .dataframe tbody tr th {\n",
       "        vertical-align: top;\n",
       "    }\n",
       "\n",
       "    .dataframe thead th {\n",
       "        text-align: right;\n",
       "    }\n",
       "</style>\n",
       "<table border=\"1\" class=\"dataframe\">\n",
       "  <thead>\n",
       "    <tr style=\"text-align: right;\">\n",
       "      <th></th>\n",
       "      <th>Months</th>\n",
       "      <th>Brand</th>\n",
       "      <th>Total Sales ($)</th>\n",
       "    </tr>\n",
       "  </thead>\n",
       "  <tbody>\n",
       "    <tr>\n",
       "      <th>0</th>\n",
       "      <td>2018-09-01</td>\n",
       "      <td>10x Infused</td>\n",
       "      <td>1711.334</td>\n",
       "    </tr>\n",
       "    <tr>\n",
       "      <th>1</th>\n",
       "      <td>2018-09-01</td>\n",
       "      <td>1964 Supply Co.</td>\n",
       "      <td>25475.210</td>\n",
       "    </tr>\n",
       "    <tr>\n",
       "      <th>2</th>\n",
       "      <td>2018-09-01</td>\n",
       "      <td>3 Bros Grow</td>\n",
       "      <td>120153.600</td>\n",
       "    </tr>\n",
       "    <tr>\n",
       "      <th>3</th>\n",
       "      <td>2018-09-01</td>\n",
       "      <td>3 Leaf</td>\n",
       "      <td>6063.529</td>\n",
       "    </tr>\n",
       "    <tr>\n",
       "      <th>4</th>\n",
       "      <td>2018-09-01</td>\n",
       "      <td>350 Fire</td>\n",
       "      <td>631510.000</td>\n",
       "    </tr>\n",
       "  </tbody>\n",
       "</table>\n",
       "</div>"
      ],
      "text/plain": [
       "      Months            Brand  Total Sales ($)\n",
       "0 2018-09-01      10x Infused         1711.334\n",
       "1 2018-09-01  1964 Supply Co.        25475.210\n",
       "2 2018-09-01      3 Bros Grow       120153.600\n",
       "3 2018-09-01           3 Leaf         6063.529\n",
       "4 2018-09-01         350 Fire       631510.000"
      ]
     },
     "execution_count": 21,
     "metadata": {},
     "output_type": "execute_result"
    }
   ],
   "source": [
    "brandTotalSales_df_raw.head(5)"
   ]
  },
  {
   "cell_type": "code",
   "execution_count": 20,
   "id": "da554481-99c2-412d-8696-0b2b7508fd36",
   "metadata": {},
   "outputs": [
    {
     "name": "stdout",
     "output_type": "stream",
     "text": [
      "<class 'pandas.core.frame.DataFrame'>\n",
      "RangeIndex: 25279 entries, 0 to 25278\n",
      "Data columns (total 3 columns):\n",
      " #   Column           Non-Null Count  Dtype         \n",
      "---  ------           --------------  -----         \n",
      " 0   Months           25279 non-null  datetime64[ns]\n",
      " 1   Brand            25279 non-null  object        \n",
      " 2   Total Sales ($)  25279 non-null  float64       \n",
      "dtypes: datetime64[ns](1), float64(1), object(1)\n",
      "memory usage: 592.6+ KB\n"
     ]
    }
   ],
   "source": [
    "brandTotalSales_df_raw.info()"
   ]
  },
  {
   "cell_type": "markdown",
   "id": "e8cbe9f6-c77f-4d2b-adec-8ae9294b4c7e",
   "metadata": {},
   "source": [
    "# brand details categorical features"
   ]
  },
  {
   "cell_type": "code",
   "execution_count": 39,
   "id": "1ebee270-b698-4c7e-9b6a-d4ca09108170",
   "metadata": {},
   "outputs": [
    {
     "name": "stdout",
     "output_type": "stream",
     "text": [
      "brand details\n",
      "\n",
      "State -----> 1\n",
      "Channel -----> 1\n",
      "Category L1 -----> 5\n",
      "Category L2 -----> 13\n",
      "Category L3 -----> 54\n",
      "Category L4 -----> 72\n",
      "Category L5 -----> 39\n",
      "Brand -----> 1123\n",
      "Product Description -----> 32608\n",
      "Total Sales ($) -----> 133144\n",
      "Total Units -----> 96910\n",
      "ARP -----> 131319\n",
      "Flavor -----> 496\n",
      "Items Per Pack -----> 33\n",
      "Item Weight -----> 70\n",
      "Total THC -----> 136\n",
      "Total CBD -----> 149\n",
      "Contains CBD -----> 2\n",
      "Pax Filter -----> 3\n",
      "Strain -----> 5825\n",
      "Is Flavored -----> 3\n",
      "Mood Effect -----> 2\n",
      "Generic Vendor -----> 2\n",
      "Generic Items -----> 2\n",
      "$5 Price Increment -----> 22\n"
     ]
    }
   ],
   "source": [
    "print('brand details\\n')\n",
    "for i, column in enumerate(brandDetails_df_raw.columns):\n",
    "    print(column, '-'*5 + '>', len(list(brandDetails_df_raw[column].unique())))"
   ]
  },
  {
   "cell_type": "code",
   "execution_count": 37,
   "id": "963599ef-71b2-4724-abf3-e5d95252ca52",
   "metadata": {},
   "outputs": [
    {
     "name": "stdout",
     "output_type": "stream",
     "text": [
      "brand details\n",
      "\n",
      "State \n",
      " ['California'] \n",
      "\n",
      "Channel \n",
      " ['Licensed'] \n",
      "\n",
      "Category L1 \n",
      " ['Inhaleables', 'Topicals', 'Ingestibles', 'All Accessories', 'Other Cannabis'] \n",
      "\n",
      "Category L2 \n",
      " ['Flower', 'Concentrates', 'Pre-Rolled', 'Topicals', 'Edibles', 'Devices', 'Sublinguals', 'Other Cannabis', 'Accessories', 'Non Infused Food', 'Apparel', 'Grow Supplies', 'Shake/Trim/Lite'] \n",
      "\n",
      "Category L3 \n",
      " ['Hybrid', 'Sativa Dominant', 'Dabbable Concentrates', 'Infused Pre-Rolled', 'Pre-Rolled', 'Vape', 'Other Topicals', 'Indica', 'Sativa', 'Sativa Leaning', 'Infused Foods', 'Indica Dominant', 'Indica Leaning', 'Candy', 'Vaporizers', 'Pipe', 'Water Pipe', 'Rolling Papers', 'Pills', 'Tinctures', 'Other', 'Beverages', 'Spray', 'Grinder', 'Storage Device', 'Creams', 'Massage Oil', 'Balms/Salves', 'Bundles/Collections', 'Lighter', 'Culinary', 'Chocolates', 'Lotions', 'Suppositories', 'Dissolvable', 'Plants', 'Gum', nan, 'Other Edibles', 'Rolling Machine', 'Pet Products', 'Cleaner', 'Pre-Loaded', 'Lubricants', 'Soap', 'Bowl', 'Patches', 'Clothing', 'Accessories', 'Pins', 'Sticker', 'Candles', 'Jewlery', 'Lip Balm'] \n",
      "\n",
      "Category L4 \n",
      " [nan, 'Wax', 'Live Resin', 'Rosin', 'Vape Disposable', 'Shatter', 'Spreads', 'RSO', 'Gummie Candy', 'Vape Cartridge', 'Bubble Hash', 'Unspecified Concentrates/Other', 'Pen/ Hand Held', 'Other', 'Chillum', 'Oil/ Hash Dab Rig', 'Bong', 'Bubbler', 'Spoon', 'Caviar', 'Softgel', 'Dropper', 'Drinks', 'Oral Spray', 'Other Beverages', 'Capsule', 'Kit', 'Shots', 'Humidor', 'Mints', 'Crystalline', 'Distillate', 'Powdered Mix', 'Baked Goods', 'Oils', 'Caramel Candy', 'Disposable', 'Other Culinary', 'Chocolates', 'Tablet', 'Syrup', 'Hard Candy', 'Tea', 'Taffy', 'Orally Disolvable Strips', 'Butter', 'Kief', 'Clones', 'Other Infused Foods', 'Other Candy', 'Seeds', 'Hash', 'Tablets', 'Other Tinctures', 'Oil', 'Honey', 'Coffee Products', 'Torch', 'Flower', 'Jar', 'Inhaler', 'Butane', 'Tshirts', 'Accessory', 'Hat', 'Bandana', 'Table Top', 'Hoodie', 'Pants', 'Lockable', 'Soft', 'Dab Rig'] \n",
      "\n",
      "Category L5 \n",
      " [nan, 'Oil Disposable', 'Live Resin Cartridge', 'Rechargeable Battery', 'Kit', 'Hash Dab Rig', 'Accessory', 'Oil Cartridge', 'Distillate Cartridge', 'Distillate Disposable', 'Carbonated Drinks', 'Other Beverages', 'Replacement Parts and Accessories', 'Shots', 'Hard Mints', 'Live Resin Disposable', 'Disposable Battery', 'Powdered Mix', 'Granola', 'Other Baked Goods', 'Chocolate Bars', 'Cookies', 'Chocolate Pieces', 'Rosin Cartridge', 'Noncarbonated Drinks', 'Lozenges', 'Dry Tea', 'Chewable Mints', 'Unspecified Cartridge', 'Tea Drink', 'Brownies', 'Other Chocolates', 'Lollipop', 'Coffee Drink', 'Flower', 'Flower and Concentrate', 'Dab Rig', 'Concentrate', 'Tools'] \n",
      "\n",
      "Brand \n",
      " too big: 1123 \n",
      "\n",
      "Product Description \n",
      " too big: 32608 \n",
      "\n",
      "Total Sales ($) \n",
      " too big: 133144 \n",
      "\n",
      "Total Units \n",
      " too big: 96910 \n",
      "\n",
      "ARP \n",
      " too big: 131319 \n",
      "\n",
      "Flavor \n",
      " too big: 496 \n",
      "\n",
      "Items Per Pack \n",
      " [0, 1, 5, 10, 20, 30, 2, 4, 1000, 12, 6, 3, 8, 7, 15, 120, 200, 50, 100, 40, 60, 24, 18, 17, 25, 33, 74, 14, 9, 160, 16, 48, 47] \n",
      "\n",
      "Item Weight \n",
      " [nan, '1.00', '2.00', '500mg', '0.70', '3.00', '0.30', '1000mg', '300mg', '0.75', '1.75', '0.85', '0.50', '550mg', '1050mg', '1.30', '6.00', '2.50', '2.75', '0.80', '1.25', '1.20', '1.50', '0.35', '1.40', '10000mg', '1.70', '600mg', '0.60', '3.50', '3.30', '9.00', '400mg', '750mg', '1100mg', '1500mg', '900mg', '250mg', '200mg', '185mg', '125mg', '0.65', '2.40', '1.60', '0.38', '2.20', '0.66', '0.37', '2200mg', '0.25', '0.33', '0.90', '8.00', '2.30', '3.20', '5.00', '7.00', '1.33', '1.10', '0.40', '3.85', '2.80', '2.15', '1.16', '0.20', '0.42', '0.58', '360mg', '330mg', '350mg'] \n",
      "\n",
      "Total THC \n",
      " too big: 136 \n",
      "\n",
      "Total CBD \n",
      " too big: 149 \n",
      "\n",
      "Contains CBD \n",
      " ['THC Only', 'Contains CBD'] \n",
      "\n",
      "Pax Filter \n",
      " [nan, 'Not Pax', 'Pax'] \n",
      "\n",
      "Strain \n",
      " too big: 5825 \n",
      "\n",
      "Is Flavored \n",
      " [nan, 'Not Flavored', 'Flavored'] \n",
      "\n",
      "Mood Effect \n",
      " ['Not Mood Specific', 'Mood Specific'] \n",
      "\n",
      "Generic Vendor \n",
      " ['Non-Generic Vendors', 'Generic Vendors'] \n",
      "\n",
      "Generic Items \n",
      " ['Non-Generic Items', 'Generic Items'] \n",
      "\n",
      "$5 Price Increment \n",
      " ['$10.00 to $14.99', '$15.00 to $19.99', '$35.00 to $39.99', '$30.00 to $34.99', '$20.00 to $24.99', '$25.00 to $29.99', '$45.00 to $49.99', '$40.00 to $44.99', '$50.00 to $54.99', '$60.00 to $64.99', 'Over $100', '$00.00 to $4.99', '$05.00 to $9.99', '$70.00 to $74.99', '$65.00 to $69.99', '$55.00 to $59.99', '$75.00 to $79.99', '$80.00 to $84.99', '$85.00 to $89.99', '$90.00 to $94.99', '$95.00 to $99.99', 'Zero Value'] \n",
      "\n"
     ]
    }
   ],
   "source": [
    "print('brand details\\n')\n",
    "for i, column in enumerate(brandDetails_df_raw.columns):\n",
    "    uniq = list(brandDetails_df_raw[column].unique())\n",
    "    if len(uniq) > 100:\n",
    "        uniq = \"too big: \" + str(len(uniq))\n",
    "    print(column, '\\n', uniq, '\\n')"
   ]
  },
  {
   "cell_type": "markdown",
   "id": "ba478642-6878-4c38-9100-202a80bfebb8",
   "metadata": {},
   "source": [
    "# null values"
   ]
  },
  {
   "cell_type": "code",
   "execution_count": 52,
   "id": "a1ede77e-c027-4eb5-b471-ac56e9074100",
   "metadata": {},
   "outputs": [
    {
     "name": "stdout",
     "output_type": "stream",
     "text": [
      "State --------------------> no null vals\n",
      "Channel --------------------> no null vals\n",
      "Category L1 --------------------> no null vals\n",
      "Category L2 --------------------> no null vals\n",
      "Category L3 --------------------> 0.9949509232498948\n",
      "Category L4 --------------------> 0.7078226201397463\n",
      "Category L5 --------------------> 0.3458134738613711\n",
      "Brand --------------------> no null vals\n",
      "Product Description --------------------> no null vals\n",
      "Total Sales ($) --------------------> no null vals\n",
      "Total Units --------------------> no null vals\n",
      "ARP --------------------> no null vals\n",
      "Flavor --------------------> 0.053849921021955204\n",
      "Items Per Pack --------------------> no null vals\n",
      "Item Weight --------------------> 0.44458086455092877\n",
      "Total THC --------------------> no null vals\n",
      "Total CBD --------------------> no null vals\n",
      "Contains CBD --------------------> no null vals\n",
      "Pax Filter --------------------> 0.3055726080688661\n",
      "Strain --------------------> 0.7976368665374508\n",
      "Is Flavored --------------------> 0.07785372852245528\n",
      "Mood Effect --------------------> no null vals\n",
      "Generic Vendor --------------------> no null vals\n",
      "Generic Items --------------------> no null vals\n",
      "$5 Price Increment --------------------> no null vals\n"
     ]
    }
   ],
   "source": [
    "for i, column in enumerate(brandDetails_df_raw.columns):\n",
    "    notNullL = len(brandDetails_df_raw.loc[brandDetails_df_raw[column].notnull()])\n",
    "    l = len(brandDetails_df_raw)\n",
    "    percent = notNullL/l\n",
    "    s = percent\n",
    "    if percent == 1:\n",
    "        s = \"no null vals\"\n",
    "    print(column, '-'*20+'>', s)"
   ]
  },
  {
   "cell_type": "markdown",
   "id": "9a8a3bf6-27ea-4a26-b5a7-ba3ba6c204ca",
   "metadata": {},
   "source": [
    "# time series feature engineering"
   ]
  },
  {
   "cell_type": "code",
   "execution_count": 53,
   "id": "d6aee263-d60c-48ac-a403-9b8aac62a12e",
   "metadata": {},
   "outputs": [],
   "source": [
    "brands = brandTotalUnits_df_raw['Brands'].unique()"
   ]
  },
  {
   "cell_type": "code",
   "execution_count": 54,
   "id": "762f876d-a857-4425-a809-14e38d4adfdf",
   "metadata": {},
   "outputs": [
    {
     "data": {
      "text/plain": [
       "array(['#BlackSeries', '101 Cannabis Co.', '10x Infused', ..., 'Zlixir',\n",
       "       'Zoma', 'Zuma Topicals'], dtype=object)"
      ]
     },
     "execution_count": 54,
     "metadata": {},
     "output_type": "execute_result"
    }
   ],
   "source": [
    "brands"
   ]
  },
  {
   "cell_type": "code",
   "execution_count": 59,
   "id": "35d047ad-8a01-4e2f-a77f-e16d5d5abad6",
   "metadata": {},
   "outputs": [
    {
     "name": "stdout",
     "output_type": "stream",
     "text": [
      "1639/1639\r"
     ]
    },
    {
     "ename": "ValueError",
     "evalue": "No objects to concatenate",
     "output_type": "error",
     "traceback": [
      "\u001b[0;31m---------------------------------------------------------\u001b[0m",
      "\u001b[0;31mValueError\u001b[0m              Traceback (most recent call last)",
      "\u001b[0;32m<ipython-input-59-c803409e286e>\u001b[0m in \u001b[0;36m<module>\u001b[0;34m\u001b[0m\n\u001b[1;32m      5\u001b[0m \u001b[0;34m\u001b[0m\u001b[0m\n\u001b[1;32m      6\u001b[0m \u001b[0;34m\u001b[0m\u001b[0m\n\u001b[0;32m----> 7\u001b[0;31m \u001b[0mfeatureEngineeredDf\u001b[0m \u001b[0;34m=\u001b[0m \u001b[0mpd\u001b[0m\u001b[0;34m.\u001b[0m\u001b[0mconcat\u001b[0m\u001b[0;34m(\u001b[0m\u001b[0mtempDf\u001b[0m\u001b[0;34m)\u001b[0m\u001b[0;34m\u001b[0m\u001b[0;34m\u001b[0m\u001b[0m\n\u001b[0m",
      "\u001b[0;32m~/opt/miniconda3/lib/python3.9/site-packages/pandas/util/_decorators.py\u001b[0m in \u001b[0;36mwrapper\u001b[0;34m(*args, **kwargs)\u001b[0m\n\u001b[1;32m    309\u001b[0m                     \u001b[0mstacklevel\u001b[0m\u001b[0;34m=\u001b[0m\u001b[0mstacklevel\u001b[0m\u001b[0;34m,\u001b[0m\u001b[0;34m\u001b[0m\u001b[0;34m\u001b[0m\u001b[0m\n\u001b[1;32m    310\u001b[0m                 )\n\u001b[0;32m--> 311\u001b[0;31m             \u001b[0;32mreturn\u001b[0m \u001b[0mfunc\u001b[0m\u001b[0;34m(\u001b[0m\u001b[0;34m*\u001b[0m\u001b[0margs\u001b[0m\u001b[0;34m,\u001b[0m \u001b[0;34m**\u001b[0m\u001b[0mkwargs\u001b[0m\u001b[0;34m)\u001b[0m\u001b[0;34m\u001b[0m\u001b[0;34m\u001b[0m\u001b[0m\n\u001b[0m\u001b[1;32m    312\u001b[0m \u001b[0;34m\u001b[0m\u001b[0m\n\u001b[1;32m    313\u001b[0m         \u001b[0;32mreturn\u001b[0m \u001b[0mwrapper\u001b[0m\u001b[0;34m\u001b[0m\u001b[0;34m\u001b[0m\u001b[0m\n",
      "\u001b[0;32m~/opt/miniconda3/lib/python3.9/site-packages/pandas/core/reshape/concat.py\u001b[0m in \u001b[0;36mconcat\u001b[0;34m(objs, axis, join, ignore_index, keys, levels, names, verify_integrity, sort, copy)\u001b[0m\n\u001b[1;32m    292\u001b[0m     \u001b[0mValueError\u001b[0m\u001b[0;34m:\u001b[0m \u001b[0mIndexes\u001b[0m \u001b[0mhave\u001b[0m \u001b[0moverlapping\u001b[0m \u001b[0mvalues\u001b[0m\u001b[0;34m:\u001b[0m \u001b[0;34m[\u001b[0m\u001b[0;34m'a'\u001b[0m\u001b[0;34m]\u001b[0m\u001b[0;34m\u001b[0m\u001b[0;34m\u001b[0m\u001b[0m\n\u001b[1;32m    293\u001b[0m     \"\"\"\n\u001b[0;32m--> 294\u001b[0;31m     op = _Concatenator(\n\u001b[0m\u001b[1;32m    295\u001b[0m         \u001b[0mobjs\u001b[0m\u001b[0;34m,\u001b[0m\u001b[0;34m\u001b[0m\u001b[0;34m\u001b[0m\u001b[0m\n\u001b[1;32m    296\u001b[0m         \u001b[0maxis\u001b[0m\u001b[0;34m=\u001b[0m\u001b[0maxis\u001b[0m\u001b[0;34m,\u001b[0m\u001b[0;34m\u001b[0m\u001b[0;34m\u001b[0m\u001b[0m\n",
      "\u001b[0;32m~/opt/miniconda3/lib/python3.9/site-packages/pandas/core/reshape/concat.py\u001b[0m in \u001b[0;36m__init__\u001b[0;34m(self, objs, axis, join, keys, levels, names, ignore_index, verify_integrity, copy, sort)\u001b[0m\n\u001b[1;32m    349\u001b[0m \u001b[0;34m\u001b[0m\u001b[0m\n\u001b[1;32m    350\u001b[0m         \u001b[0;32mif\u001b[0m \u001b[0mlen\u001b[0m\u001b[0;34m(\u001b[0m\u001b[0mobjs\u001b[0m\u001b[0;34m)\u001b[0m \u001b[0;34m==\u001b[0m \u001b[0;36m0\u001b[0m\u001b[0;34m:\u001b[0m\u001b[0;34m\u001b[0m\u001b[0;34m\u001b[0m\u001b[0m\n\u001b[0;32m--> 351\u001b[0;31m             \u001b[0;32mraise\u001b[0m \u001b[0mValueError\u001b[0m\u001b[0;34m(\u001b[0m\u001b[0;34m\"No objects to concatenate\"\u001b[0m\u001b[0;34m)\u001b[0m\u001b[0;34m\u001b[0m\u001b[0;34m\u001b[0m\u001b[0m\n\u001b[0m\u001b[1;32m    352\u001b[0m \u001b[0;34m\u001b[0m\u001b[0m\n\u001b[1;32m    353\u001b[0m         \u001b[0;32mif\u001b[0m \u001b[0mkeys\u001b[0m \u001b[0;32mis\u001b[0m \u001b[0;32mNone\u001b[0m\u001b[0;34m:\u001b[0m\u001b[0;34m\u001b[0m\u001b[0;34m\u001b[0m\u001b[0m\n",
      "\u001b[0;31mValueError\u001b[0m: No objects to concatenate"
     ]
    }
   ],
   "source": [
    "l = len(brands)\n",
    "tempDf = []\n",
    "for i, brand in enumerate(brands):\n",
    "    print(f'{i}/{l-1}',end='\\r')\n",
    "    \n",
    "\n",
    "featureEngineeredDf = pd.concat(tempDf)"
   ]
  },
  {
   "cell_type": "code",
   "execution_count": null,
   "id": "ab01deb6-2ad2-40df-8bdc-3c089270e808",
   "metadata": {},
   "outputs": [],
   "source": []
  }
 ],
 "metadata": {
  "kernelspec": {
   "display_name": "Python 3",
   "language": "python",
   "name": "python3"
  },
  "language_info": {
   "codemirror_mode": {
    "name": "ipython",
    "version": 3
   },
   "file_extension": ".py",
   "mimetype": "text/x-python",
   "name": "python",
   "nbconvert_exporter": "python",
   "pygments_lexer": "ipython3",
   "version": "3.9.5"
  },
  "toc-autonumbering": false
 },
 "nbformat": 4,
 "nbformat_minor": 5
}
